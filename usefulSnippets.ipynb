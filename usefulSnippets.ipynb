{
 "cells": [
  {
   "cell_type": "markdown",
   "source": [
    "# Lists"
   ],
   "metadata": {}
  },
  {
   "cell_type": "code",
   "execution_count": 1,
   "source": [
    "# finding index of min value in a list\r\n",
    "values = [3, 6, 1, 5]\r\n",
    "index_min = min(range(len(values)), key=values.__getitem__)\r\n",
    "index_min"
   ],
   "outputs": [
    {
     "output_type": "execute_result",
     "data": {
      "text/plain": [
       "2"
      ]
     },
     "metadata": {},
     "execution_count": 1
    }
   ],
   "metadata": {}
  },
  {
   "cell_type": "code",
   "execution_count": 2,
   "source": [
    "#reversing a list\r\n",
    "rev_list = [1,2,3,4]\r\n",
    "rev_list[::-1]\r\n",
    "rev_list"
   ],
   "outputs": [
    {
     "output_type": "execute_result",
     "data": {
      "text/plain": [
       "[1, 2, 3, 4]"
      ]
     },
     "metadata": {},
     "execution_count": 2
    }
   ],
   "metadata": {}
  },
  {
   "cell_type": "code",
   "execution_count": null,
   "source": [
    "# finding duplicates in a list\r\n",
    "def noDups(l) -> bool:\r\n",
    "    return len(l) == len(set(l))\r\n",
    "\r\n",
    "# clean and pythonic but always runs in worse case o(n)\r\n",
    "\r\n",
    "def noDups2(l)->bool:\r\n",
    "    setOfElems = set()\r\n",
    "    for elem in l:\r\n",
    "        if elem in setOfElems:\r\n",
    "            return False\r\n",
    "        else:\r\n",
    "            setOfElems.add(elem)\r\n",
    "    return True\r\n",
    "# long and chunky but better than above in average case because of break\r\n"
   ],
   "outputs": [],
   "metadata": {}
  },
  {
   "cell_type": "code",
   "execution_count": 6,
   "source": [
    "# finding all indexes of an item in a list\r\n",
    "# more_itertools.locate(iterable, pred=bool, window_size=None)\r\n",
    "\r\n",
    "from more_itertools import locate\r\n",
    "list_of_elems = ['Hello', 'Ok', 'is', 'Ok',\r\n",
    "                 'test', 'this', 'is', 'a', 'test', 'Ok']\r\n",
    "# Use more_itertools.locate() to find all indexes of an item 'Ok' in list\r\n",
    "index_pos_list = list(locate(list_of_elems, lambda a: a == 'Ok'))\r\n",
    "index_pos_list\r\n"
   ],
   "outputs": [
    {
     "output_type": "execute_result",
     "data": {
      "text/plain": [
       "[1, 3, 9]"
      ]
     },
     "metadata": {},
     "execution_count": 6
    }
   ],
   "metadata": {}
  },
  {
   "cell_type": "markdown",
   "source": [
    "# Variables"
   ],
   "metadata": {}
  },
  {
   "cell_type": "code",
   "execution_count": 3,
   "source": [
    "# swapping variable values\r\n",
    "a = 2\r\n",
    "b  = 3\r\n",
    "a, b  = b, a\r\n",
    "print(a, b)"
   ],
   "outputs": [
    {
     "output_type": "stream",
     "name": "stdout",
     "text": [
      "3 2\n"
     ]
    }
   ],
   "metadata": {}
  },
  {
   "cell_type": "code",
   "execution_count": null,
   "source": [],
   "outputs": [],
   "metadata": {}
  }
 ],
 "metadata": {
  "orig_nbformat": 4,
  "language_info": {
   "name": "python",
   "version": "3.7.3",
   "mimetype": "text/x-python",
   "codemirror_mode": {
    "name": "ipython",
    "version": 3
   },
   "pygments_lexer": "ipython3",
   "nbconvert_exporter": "python",
   "file_extension": ".py"
  },
  "kernelspec": {
   "name": "python3",
   "display_name": "Python 3.7.3 64-bit ('base': conda)"
  },
  "interpreter": {
   "hash": "1f6f5b05f6b17a715395ee32c655d2a555469c9b738ef92421f45abe63f60879"
  }
 },
 "nbformat": 4,
 "nbformat_minor": 2
}
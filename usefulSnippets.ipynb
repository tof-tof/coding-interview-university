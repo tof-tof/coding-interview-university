{
 "cells": [
  {
   "cell_type": "markdown",
   "source": [
    "# Lists"
   ],
   "metadata": {}
  },
  {
   "cell_type": "code",
   "execution_count": 1,
   "source": [
    "# finding index of min value in a list\r\n",
    "values = [3, 6, 1, 5]\r\n",
    "index_min = min(range(len(values)), key=values.__getitem__)\r\n",
    "index_min"
   ],
   "outputs": [
    {
     "output_type": "execute_result",
     "data": {
      "text/plain": [
       "2"
      ]
     },
     "metadata": {},
     "execution_count": 1
    }
   ],
   "metadata": {}
  },
  {
   "cell_type": "code",
   "execution_count": 2,
   "source": [
    "#reversing a list with slicing \r\n",
    "rev_list = [1,2,3,4]\r\n",
    "rev_list[::-1]\r\n",
    "rev_list"
   ],
   "outputs": [
    {
     "output_type": "execute_result",
     "data": {
      "text/plain": [
       "[1, 2, 3, 4]"
      ]
     },
     "metadata": {},
     "execution_count": 2
    }
   ],
   "metadata": {}
  },
  {
   "cell_type": "code",
   "execution_count": null,
   "source": [
    "# finding duplicates in a list\r\n",
    "def noDups(l) -> bool:\r\n",
    "    return len(l) == len(set(l))\r\n",
    "\r\n",
    "# clean and pythonic but always runs in worse case o(n)\r\n",
    "\r\n",
    "def noDups2(l)->bool:\r\n",
    "    setOfElems = set()\r\n",
    "    for elem in l:\r\n",
    "        if elem in setOfElems:\r\n",
    "            return False\r\n",
    "        else:\r\n",
    "            setOfElems.add(elem)\r\n",
    "    return True\r\n",
    "# long and chunky but better than above in average case because of break\r\n"
   ],
   "outputs": [],
   "metadata": {}
  },
  {
   "cell_type": "code",
   "execution_count": 6,
   "source": [
    "# remove all occurrences of an element in an array in \r\n",
    "def removeElement(self, nums: List[int], val: int) -> int:\r\n",
    "    i = 0\r\n",
    "    n = len(nums)\r\n",
    "    while i < n:\r\n",
    "        if nums[i] == val:\r\n",
    "            nums[i] = nums[n - 1]\r\n",
    "            n -= 1\r\n",
    "        else:\r\n",
    "            i += 1\r\n",
    "    return n\r\n"
   ],
   "outputs": [
    {
     "output_type": "execute_result",
     "data": {
      "text/plain": [
       "[1, 3, 9]"
      ]
     },
     "metadata": {},
     "execution_count": 6
    }
   ],
   "metadata": {}
  },
  {
   "cell_type": "markdown",
   "source": [
    "## Heapq Offerings\r\n",
    "\r\n",
    "the heapq module can provide many useful functions on lists, such as "
   ],
   "metadata": {}
  },
  {
   "cell_type": "code",
   "execution_count": 1,
   "source": [
    "import heapq\r\n",
    "# merge(*iterables, key=None, reverse=False): merge to sorted inputs into sorted outputs\r\n",
    "# returns and iterator over the values\r\n",
    "merge1 = [2, 4, 7, ]\r\n",
    "merge2 = [4, 5, 8]\r\n",
    "for item in heapq.merge(merge1, merge2):\r\n",
    "    print(item)\r\n"
   ],
   "outputs": [
    {
     "output_type": "stream",
     "name": "stdout",
     "text": [
      "2\n",
      "4\n",
      "4\n",
      "5\n",
      "7\n",
      "8\n"
     ]
    }
   ],
   "metadata": {}
  },
  {
   "cell_type": "code",
   "execution_count": null,
   "source": [],
   "outputs": [],
   "metadata": {}
  },
  {
   "cell_type": "markdown",
   "source": [
    "# Variables"
   ],
   "metadata": {}
  },
  {
   "cell_type": "code",
   "execution_count": 3,
   "source": [
    "# swapping variable values\r\n",
    "a = 2\r\n",
    "b  = 3\r\n",
    "a, b  = b, a\r\n",
    "print(a, b)"
   ],
   "outputs": [
    {
     "output_type": "stream",
     "name": "stdout",
     "text": [
      "3 2\n"
     ]
    }
   ],
   "metadata": {}
  },
  {
   "cell_type": "code",
   "execution_count": 2,
   "source": [
    "# syntactic sugar for double seeting\r\n",
    "\r\n",
    "head = current = []\r\n",
    "head is current"
   ],
   "outputs": [
    {
     "output_type": "execute_result",
     "data": {
      "text/plain": [
       "True"
      ]
     },
     "metadata": {},
     "execution_count": 2
    }
   ],
   "metadata": {}
  },
  {
   "cell_type": "markdown",
   "source": [
    "# Linked Lists"
   ],
   "metadata": {}
  },
  {
   "cell_type": "code",
   "execution_count": null,
   "source": [
    "# reversing a linked list\r\n",
    "\r\n",
    "# Definition for singly-linked list.\r\n",
    "class ListNode:\r\n",
    "    def __init__(self, val=0, next=None):\r\n",
    "        self.val = val\r\n",
    "        self.next = next\r\n",
    "def reverselist(node):\r\n",
    "    prev = None\r\n",
    "    curr = node\r\n",
    "    next = None\r\n",
    "    while (curr != None):\r\n",
    "        next = curr.next\r\n",
    "        curr.next = prev\r\n",
    "        prev = curr\r\n",
    "        curr = next\r\n",
    "    node = prev\r\n",
    "    return node\r\n"
   ],
   "outputs": [],
   "metadata": {}
  }
 ],
 "metadata": {
  "orig_nbformat": 4,
  "language_info": {
   "name": "python",
   "version": "3.7.3",
   "mimetype": "text/x-python",
   "codemirror_mode": {
    "name": "ipython",
    "version": 3
   },
   "pygments_lexer": "ipython3",
   "nbconvert_exporter": "python",
   "file_extension": ".py"
  },
  "kernelspec": {
   "name": "python3",
   "display_name": "Python 3.7.3 64-bit ('base': conda)"
  },
  "interpreter": {
   "hash": "1f6f5b05f6b17a715395ee32c655d2a555469c9b738ef92421f45abe63f60879"
  }
 },
 "nbformat": 4,
 "nbformat_minor": 2
}
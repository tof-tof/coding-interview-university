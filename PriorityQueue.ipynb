{
 "cells": [
  {
   "cell_type": "markdown",
   "source": [
    "# PriorityQueue\r\n",
    "from the `queue` package  \r\n",
    "uses binary min-heap implementation from `heapq` \r\n",
    "insertion, extract-min: O(log n)"
   ],
   "metadata": {}
  },
  {
   "cell_type": "code",
   "execution_count": 1,
   "source": [
    "from queue import PriorityQueue\r\n"
   ],
   "outputs": [],
   "metadata": {}
  },
  {
   "cell_type": "code",
   "execution_count": 3,
   "source": [
    "q = PriorityQueue()\r\n",
    "q.put((2, 'code'))\r\n",
    "q.put((1, 'eat'))\r\n",
    "q.put((3, 'sleep'))\r\n",
    "\r\n",
    "while not q.empty():\r\n",
    "    next_item = q.get()\r\n",
    "    print(next_item)"
   ],
   "outputs": [
    {
     "output_type": "stream",
     "name": "stdout",
     "text": [
      "(1, 'eat')\n",
      "(2, 'code')\n",
      "(3, 'sleep')\n"
     ]
    }
   ],
   "metadata": {}
  },
  {
   "cell_type": "markdown",
   "source": [
    "Note the only init param is maxsize (not the actual elements of the queue itself)"
   ],
   "metadata": {}
  },
  {
   "cell_type": "code",
   "execution_count": 3,
   "source": [
    "# how to crash one's computer - infinite loop\r\n",
    "maxsize_q = PriorityQueue(3)\r\n",
    "maxsize_q.put((2, 'code'))\r\n",
    "maxsize_q.put((1, 'eat'))\r\n",
    "maxsize_q.put((3, 'sleep'))\r\n",
    "maxsize_q.put((4, 'wash'))\r\n",
    "\r\n",
    "print('hey')"
   ],
   "outputs": [],
   "metadata": {}
  },
  {
   "cell_type": "code",
   "execution_count": 10,
   "source": [
    "#note keys need not be unique, and the output order is stable wrt the input order\r\n",
    "q = PriorityQueue()\r\n",
    "q.put((2,\"first one in\"))\r\n",
    "q.put((2, \"second one in\"))\r\n",
    "\r\n",
    "while not q.empty():\r\n",
    "    print(q.get())\r\n"
   ],
   "outputs": [
    {
     "output_type": "stream",
     "name": "stdout",
     "text": [
      "(2, 'first one in')\n",
      "(2, 'second one in')\n"
     ]
    }
   ],
   "metadata": {}
  },
  {
   "cell_type": "code",
   "execution_count": 9,
   "source": [
    "# priority queue sorts lexicographically\r\n",
    "q = PriorityQueue()\r\n",
    "q.put((1, 5))\r\n",
    "q.put((1, 2))\r\n",
    "q.put((1,3))\r\n",
    "while not q.empty():\r\n",
    "    next_item = q.get()\r\n",
    "    print(next_item)\r\n"
   ],
   "outputs": [
    {
     "output_type": "stream",
     "name": "stdout",
     "text": [
      "(1, 2)\n",
      "(1, 3)\n",
      "(1, 5)\n"
     ]
    }
   ],
   "metadata": {}
  },
  {
   "cell_type": "code",
   "execution_count": 7,
   "source": [],
   "outputs": [
    {
     "output_type": "stream",
     "name": "stdout",
     "text": [
      "1\n"
     ]
    }
   ],
   "metadata": {}
  }
 ],
 "metadata": {
  "orig_nbformat": 4,
  "language_info": {
   "name": "python",
   "version": "3.7.3",
   "mimetype": "text/x-python",
   "codemirror_mode": {
    "name": "ipython",
    "version": 3
   },
   "pygments_lexer": "ipython3",
   "nbconvert_exporter": "python",
   "file_extension": ".py"
  },
  "kernelspec": {
   "name": "python3",
   "display_name": "Python 3.9.1 64-bit ('venv': venv)"
  },
  "interpreter": {
   "hash": "66fed39441b8c32cb020d747b86ff5961711bba3c6e96157e70abc62bcbf3db6"
  }
 },
 "nbformat": 4,
 "nbformat_minor": 2
}
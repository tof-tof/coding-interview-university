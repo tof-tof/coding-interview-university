{
 "cells": [
  {
   "cell_type": "markdown",
   "source": [
    "# PriorityQueue\r\n",
    "from the `queue` package  \r\n",
    "uses binary min-heap implementation from `heapq` "
   ],
   "metadata": {}
  },
  {
   "cell_type": "code",
   "execution_count": 2,
   "source": [
    "from queue import PriorityQueue\r\n"
   ],
   "outputs": [],
   "metadata": {}
  },
  {
   "cell_type": "code",
   "execution_count": 3,
   "source": [
    "q = PriorityQueue()\r\n",
    "q.put((2, 'code'))\r\n",
    "q.put((1, 'eat'))\r\n",
    "q.put((3, 'sleep'))\r\n",
    "\r\n",
    "while not q.empty():\r\n",
    "    next_item = q.get()\r\n",
    "    print(next_item)"
   ],
   "outputs": [
    {
     "output_type": "stream",
     "name": "stdout",
     "text": [
      "(1, 'eat')\n",
      "(2, 'code')\n",
      "(3, 'sleep')\n"
     ]
    }
   ],
   "metadata": {}
  },
  {
   "cell_type": "markdown",
   "source": [
    "Note the only init param is maxsize (not the actual elements of the queue itself)"
   ],
   "metadata": {}
  },
  {
   "cell_type": "code",
   "execution_count": 3,
   "source": [
    "# how to crash one's computer - infinite loop\r\n",
    "maxsize_q = PriorityQueue(3)\r\n",
    "maxsize_q.put((2, 'code'))\r\n",
    "maxsize_q.put((1, 'eat'))\r\n",
    "maxsize_q.put((3, 'sleep'))\r\n",
    "maxsize_q.put((4, 'wash'))\r\n",
    "\r\n",
    "print('hey')"
   ],
   "outputs": [],
   "metadata": {}
  },
  {
   "cell_type": "code",
   "execution_count": null,
   "source": [],
   "outputs": [],
   "metadata": {}
  },
  {
   "cell_type": "code",
   "execution_count": null,
   "source": [],
   "outputs": [],
   "metadata": {}
  }
 ],
 "metadata": {
  "orig_nbformat": 4,
  "language_info": {
   "name": "python",
   "version": "3.7.3",
   "mimetype": "text/x-python",
   "codemirror_mode": {
    "name": "ipython",
    "version": 3
   },
   "pygments_lexer": "ipython3",
   "nbconvert_exporter": "python",
   "file_extension": ".py"
  },
  "kernelspec": {
   "name": "python3",
   "display_name": "Python 3.7.3 64-bit ('base': conda)"
  },
  "interpreter": {
   "hash": "1f6f5b05f6b17a715395ee32c655d2a555469c9b738ef92421f45abe63f60879"
  }
 },
 "nbformat": 4,
 "nbformat_minor": 2
}
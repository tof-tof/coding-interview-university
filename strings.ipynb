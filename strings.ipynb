{
 "cells": [
  {
   "cell_type": "markdown",
   "metadata": {},
   "source": [
    "# Strings\n",
    "* an ordered collection of characters used to store and represent text- and bytes-based information\n",
    "\n",
    "## Fact File\n",
    "**mutable**   : no  \n",
    "**ordered**   : yes  \n",
    "**multi-type**: no (each is a char)  \n",
    "**length**    : variable  \n",
    "\n",
    "shares many commonalities with lists in terms of:\n",
    "* indexing\n",
    "* slicing, \n",
    "* length\n",
    "* repeat (*)\n",
    "* concatenation (+)\n",
    "\n"
   ]
  },
  {
   "cell_type": "markdown",
   "metadata": {},
   "source": [
    "## String-specific methods\n",
    "\n",
    "### notable mentions\n",
    "* S.isnumeric(),S.isdecimal(), S.isdigit(), S.isalnum(), S.isalpha(), S.isdecimal(), S.islower() S.isupper(), S.isspace()\n",
    "* S.lower(), S.upper(), S.capitalize()\n",
    "* S.endswith(suffix [, start [, end]]), S.startswith(prefix [, start [, end]])\n",
    "* 'str'.join(iterable)\n",
    "* 3.9: .removeprefix(str), .removesuffix(str)\n",
    "\n",
    "### Methods in Depth"
   ]
  },
  {
   "cell_type": "code",
   "execution_count": 30,
   "metadata": {},
   "outputs": [
    {
     "name": "stdout",
     "output_type": "stream",
     "text": [
      "4\n",
      "10\n"
     ]
    }
   ],
   "source": [
    "#find(sub [, start [, end]])\n",
    "find_str = \"fbdspajfjkpa\"\n",
    "print(find_str.find('pa'))\n",
    "print(find_str.rfind('pa'))\n"
   ]
  },
  {
   "cell_type": "code",
   "execution_count": 7,
   "metadata": {},
   "outputs": [
    {
     "data": {
      "text/plain": [
       "-1"
      ]
     },
     "execution_count": 7,
     "metadata": {},
     "output_type": "execute_result"
    }
   ],
   "source": [
    "# find returns -1 when not found\n",
    "no_find = \"gbadreilghireia\"\n",
    "no_find.find('pa')\n"
   ]
  },
  {
   "cell_type": "code",
   "execution_count": 40,
   "metadata": {},
   "outputs": [
    {
     "name": "stdout",
     "output_type": "stream",
     "text": [
      "5\n",
      "11\n"
     ]
    }
   ],
   "source": [
    "# unlike lists, strings have an rindex function as well as an index function\n",
    "find_str = \"fbdspajfjkpa\"\n",
    "print(find_str.index('a')) # would return error if not found\n",
    "print(find_str.rindex('a'))\n"
   ]
  },
  {
   "cell_type": "code",
   "execution_count": 29,
   "metadata": {},
   "outputs": [
    {
     "data": {
      "text/plain": [
       "'fbdsxxjfjkpa'"
      ]
     },
     "execution_count": 29,
     "metadata": {},
     "output_type": "execute_result"
    }
   ],
   "source": [
    "# S.replace(old, new[, count])\n",
    "rep_str = \"fbdspajfjkpa\"\n",
    "rep_str.replace('pa', 'xx',1)\n"
   ]
  },
  {
   "cell_type": "code",
   "execution_count": 14,
   "metadata": {},
   "outputs": [
    {
     "data": {
      "text/plain": [
       "['bdj', 'fn', 'dnl']"
      ]
     },
     "execution_count": 14,
     "metadata": {},
     "output_type": "execute_result"
    }
   ],
   "source": [
    "# s.split(sep[, maxsplit]]) and similarly S.rsplit([sep[, maxsplit]])\n",
    "split_str = \"  bdj fn dnl \"\n",
    "split_str.split()\n",
    "\n"
   ]
  },
  {
   "cell_type": "code",
   "execution_count": 48,
   "metadata": {},
   "outputs": [
    {
     "name": "stdout",
     "output_type": "stream",
     "text": [
      "['Thank you for the music', 'Welcome to the jungle']\n",
      "['Thank you for the music\\n', 'Welcome to the jungle']\n"
     ]
    }
   ],
   "source": [
    "# splitlines() method splits a string into a list. The splitting is done at line breaks\n",
    "txt = \"Thank you for the music\\nWelcome to the jungle\"\n",
    "\n",
    "print(txt.splitlines())\n",
    "print(txt.splitlines(True))\n"
   ]
  },
  {
   "cell_type": "code",
   "execution_count": 42,
   "metadata": {},
   "outputs": [
    {
     "name": "stdout",
     "output_type": "stream",
     "text": [
      "('I could eat ', 'bananas', ' all day bananas')\n",
      "('I could eat bananas all day ', 'bananas', '')\n"
     ]
    }
   ],
   "source": [
    "# partition(str)\n",
    "txt = \"I could eat bananas all day bananas\"\n",
    "print(txt.partition(\"bananas\"))\n",
    "print(txt.rpartition(\"bananas\"))\n"
   ]
  },
  {
   "cell_type": "code",
   "execution_count": 36,
   "metadata": {},
   "outputs": [
    {
     "data": {
      "text/plain": [
       "('I could eat bananas all day', '', '')"
      ]
     },
     "execution_count": 36,
     "metadata": {},
     "output_type": "execute_result"
    }
   ],
   "source": [
    "# partition when search string not present\n",
    "\n",
    "txt = \"I could eat bananas all day\"\n",
    "txt.partition(\"apples\")\n"
   ]
  },
  {
   "cell_type": "code",
   "execution_count": 34,
   "metadata": {},
   "outputs": [
    {
     "name": "stdout",
     "output_type": "stream",
     "text": [
      "G i Joe!\n"
     ]
    }
   ],
   "source": [
    "# text translation\n",
    "txt = \"Good night Sam!\"\n",
    "x = \"mSa\"\n",
    "y = \"eJo\" # replace x with y. Pre(len(x)===len(y))\n",
    "z = \"odnght\"  # describes which characters to remove from the original string.\n",
    "mytable = txt.maketrans(x, y, z)\n",
    "print(txt.translate(mytable))\n"
   ]
  },
  {
   "cell_type": "markdown",
   "metadata": {},
   "source": [
    "#### text beautification"
   ]
  },
  {
   "cell_type": "code",
   "execution_count": 33,
   "metadata": {},
   "outputs": [
    {
     "data": {
      "text/plain": [
       "'OOOOOOObananaOOOOOOO'"
      ]
     },
     "execution_count": 33,
     "metadata": {},
     "output_type": "execute_result"
    }
   ],
   "source": [
    "# S.center(width [, fill])\n",
    "\"banana\".center(20, \"O\")\n"
   ]
  },
  {
   "cell_type": "code",
   "execution_count": 41,
   "metadata": {},
   "outputs": [
    {
     "data": {
      "text/plain": [
       "'bananaOOOOOOOOOOOOOO'"
      ]
     },
     "execution_count": 41,
     "metadata": {},
     "output_type": "execute_result"
    }
   ],
   "source": [
    "# S.ljust(width[, fill])\n",
    "\"banana\".ljust(20, \"O\")\n",
    "# similarly there is rjust()\n"
   ]
  },
  {
   "cell_type": "code",
   "execution_count": 10,
   "metadata": {},
   "outputs": [
    {
     "data": {
      "text/plain": [
       "'   fisjfiosfj   fsofjs'"
      ]
     },
     "execution_count": 10,
     "metadata": {},
     "output_type": "execute_result"
    }
   ],
   "source": [
    "# remove right whitespace\n",
    "space_str = \"   fisjfiosfj   fsofjs    \"\n",
    "space_str.rstrip()\n",
    "# also have s.lstrip(), s.strip() = s.lstrip().rstrip()"
   ]
  },
  {
   "cell_type": "code",
   "execution_count": 43,
   "metadata": {},
   "outputs": [
    {
     "data": {
      "text/plain": [
       "'0000000505'"
      ]
     },
     "execution_count": 43,
     "metadata": {},
     "output_type": "execute_result"
    }
   ],
   "source": [
    "# zfill() method adds zeros(0) at the beginning of the string, until it reaches the specified length\n",
    "txt = \"505\"\n",
    "txt.zfill(10)\n"
   ]
  },
  {
   "cell_type": "markdown",
   "metadata": {},
   "source": [
    "#### boolean methods"
   ]
  },
  {
   "cell_type": "code",
   "execution_count": 31,
   "metadata": {},
   "outputs": [
    {
     "data": {
      "text/plain": [
       "True"
      ]
     },
     "execution_count": 31,
     "metadata": {},
     "output_type": "execute_result"
    }
   ],
   "source": [
    "# istitle() method returns True if all words in a text start with a upper case letter, AND the rest of the word are lower case letters, otherwise False. Symbols and numbers are ignored.\n",
    "\n",
    "\"Hello, And Welcome To My World! 23?!\".istitle()\n",
    "\n",
    "# like .islower() has .lower(), .istitle() has .title()"
   ]
  },
  {
   "cell_type": "code",
   "execution_count": 44,
   "metadata": {},
   "outputs": [
    {
     "data": {
      "text/plain": [
       "False"
      ]
     },
     "execution_count": 44,
     "metadata": {},
     "output_type": "execute_result"
    }
   ],
   "source": [
    "# isprintable()\n",
    "txt = \"Hello!\\nAre you #1?\"\n",
    "txt.isprintable()\n"
   ]
  },
  {
   "cell_type": "markdown",
   "metadata": {},
   "source": [
    "## string types"
   ]
  },
  {
   "cell_type": "code",
   "execution_count": 21,
   "metadata": {},
   "outputs": [
    {
     "name": "stdout",
     "output_type": "stream",
     "text": [
      "C:\n",
      "ew\text.dat\n",
      "\n",
      "C:\\new\\text.dat\n"
     ]
    },
    {
     "data": {
      "text/plain": [
       "'C:\\\\new\\\\text.dat'"
      ]
     },
     "execution_count": 21,
     "metadata": {},
     "output_type": "execute_result"
    }
   ],
   "source": [
    "# Raw strings (no escapes)\n",
    "print('C:\\new\\text.dat', end=\"\\n\\n\")\n",
    "print(r'C:\\new\\text.dat')\n",
    "r'C:\\new\\text.dat'\n"
   ]
  },
  {
   "cell_type": "code",
   "execution_count": 22,
   "metadata": {},
   "outputs": [
    {
     "name": "stdout",
     "output_type": "stream",
     "text": [
      "13\n",
      "15\n"
     ]
    }
   ],
   "source": [
    "# raw: notice the difference in lengths\n",
    "print(len('C:\\new\\text.dat'))\n",
    "print(len(r'C:\\new\\text.dat'))\n",
    "\n"
   ]
  },
  {
   "cell_type": "code",
   "execution_count": 4,
   "metadata": {},
   "outputs": [
    {
     "data": {
      "text/plain": [
       "' I am 5!'"
      ]
     },
     "execution_count": 4,
     "metadata": {},
     "output_type": "execute_result"
    }
   ],
   "source": [
    "# formatting strings\n",
    "age = 5\n",
    "f\" I am {age}!\""
   ]
  },
  {
   "cell_type": "code",
   "execution_count": 24,
   "metadata": {},
   "outputs": [
    {
     "name": "stdout",
     "output_type": "stream",
     "text": [
      "Always look\n",
      "   on the bright\n",
      "   side of life.\n"
     ]
    },
    {
     "data": {
      "text/plain": [
       "'Always look\\n   on the bright\\n   side of life.'"
      ]
     },
     "execution_count": 24,
     "metadata": {},
     "output_type": "execute_result"
    }
   ],
   "source": [
    "# multi-line strings\n",
    "\n",
    "mantra = \"\"\"Always look \n",
    "   on the bright\n",
    "   side of life.\"\"\"\n",
    "print(mantra)\n",
    "mantra"
   ]
  },
  {
   "cell_type": "markdown",
   "metadata": {},
   "source": [
    "## Character Codes\n",
    "\n",
    "not like the topic so won't say much, but could come useful\n",
    "\n"
   ]
  },
  {
   "cell_type": "code",
   "execution_count": 38,
   "metadata": {},
   "outputs": [
    {
     "data": {
      "text/plain": [
       "104"
      ]
     },
     "execution_count": 38,
     "metadata": {},
     "output_type": "execute_result"
    }
   ],
   "source": [
    "# ord() function returns the number representing the unicode code of a specified character.\n",
    "ord(\"h\")\n"
   ]
  },
  {
   "cell_type": "code",
   "execution_count": 26,
   "metadata": {},
   "outputs": [
    {
     "data": {
      "text/plain": [
       "'a'"
      ]
     },
     "execution_count": 26,
     "metadata": {},
     "output_type": "execute_result"
    }
   ],
   "source": [
    "# chr() function returns the character that represents the specified unicode\n",
    "chr(97)\n"
   ]
  },
  {
   "cell_type": "code",
   "execution_count": 27,
   "metadata": {},
   "outputs": [
    {
     "data": {
      "text/plain": [
       "'b'"
      ]
     },
     "execution_count": 27,
     "metadata": {},
     "output_type": "execute_result"
    }
   ],
   "source": [
    "# the main use is advancing to the next char in the alphabet    \n",
    "chr(ord(\"a\") + 1)"
   ]
  },
  {
   "cell_type": "code",
   "execution_count": 71,
   "metadata": {},
   "outputs": [
    {
     "name": "stdout",
     "output_type": "stream",
     "text": [
      "True\n"
     ]
    }
   ],
   "source": [
    "def shortestPalindrome(s):\n",
    "    for i in range(len(s), 0, -1):\n",
    "        print(i)\n",
    "        print(str(s[0:i:-1]))\n",
    "        if s[0:i] == s[0:i:-1]:\n",
    "            print(i)\n",
    "            print(s[i:len(s):-1])\n",
    "            return s[i:len(s):-1] + s\n",
    "\n",
    "# \n",
    "# shortestPalindrome(\"abcd\")\n",
    "s=\"aba\"\n",
    "prefix = s[:1]\n",
    "print(prefix == prefix[::-1])\n"
   ]
  },
  {
   "cell_type": "code",
   "execution_count": 2,
   "metadata": {},
   "outputs": [
    {
     "data": {
      "text/plain": [
       "True"
      ]
     },
     "execution_count": 2,
     "metadata": {},
     "output_type": "execute_result"
    }
   ],
   "source": [
    "\"1\"==str(1)\n"
   ]
  },
  {
   "cell_type": "code",
   "execution_count": null,
   "metadata": {},
   "outputs": [],
   "source": []
  }
 ],
 "metadata": {
  "interpreter": {
   "hash": "66fed39441b8c32cb020d747b86ff5961711bba3c6e96157e70abc62bcbf3db6"
  },
  "kernelspec": {
   "display_name": "Python 3.9.1 64-bit ('venv': venv)",
   "name": "python3"
  },
  "language_info": {
   "codemirror_mode": {
    "name": "ipython",
    "version": 3
   },
   "file_extension": ".py",
   "mimetype": "text/x-python",
   "name": "python",
   "nbconvert_exporter": "python",
   "pygments_lexer": "ipython3",
   "version": "3.9.1"
  },
  "orig_nbformat": 4
 },
 "nbformat": 4,
 "nbformat_minor": 2
}

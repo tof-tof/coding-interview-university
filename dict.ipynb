{
 "cells": [
  {
   "cell_type": "markdown",
   "source": [
    "# Dictionaries\r\n",
    "* Mappings are also collections of other objects, but they store and access by key, not offset position\r\n",
    "* key must be hashable\r\n",
    "* arbitrarily nestable\r\n",
    "* when you create a class it creates a dict for the attributes, you can turn this off through [__slots__](https://towardsdatascience.com/understand-slots-in-python-e3081ef5196d)\r\n",
    "\r\n",
    "\r\n",
    "## Fact File\r\n",
    "**mutable**   : yes  \r\n",
    "**ordered**   : yes  \r\n",
    "**multi-type**: yes (for both key and value)  \r\n",
    "**length**    : variable\r\n",
    "\r\n",
    "## Implementation\r\n",
    "* dynamically resizing (but only upsizing) hash table\r\n",
    "* locations filled in the hash table stored in an array, which gives us ordered dictionaries\r\n",
    "\r\n",
    "## Basic Operations"
   ],
   "metadata": {}
  },
  {
   "cell_type": "code",
   "execution_count": 3,
   "source": [
    "# key membership O(1)\r\n",
    "member_dict = {'a': 1, 'b': 2, 'c': 3}\r\n",
    "'f' in member_dict\r\n"
   ],
   "outputs": [
    {
     "output_type": "execute_result",
     "data": {
      "text/plain": [
       "False"
      ]
     },
     "metadata": {},
     "execution_count": 3
    }
   ],
   "metadata": {}
  },
  {
   "cell_type": "code",
   "execution_count": 27,
   "source": [
    "# get item: O(1)\r\n",
    "get_dict = {'food': 'Spam', 'quantity': 4, 'color': 'pink'}\r\n",
    "get_dict['food']\r\n"
   ],
   "outputs": [
    {
     "output_type": "execute_result",
     "data": {
      "text/plain": [
       "'Spam'"
      ]
     },
     "metadata": {},
     "execution_count": 27
    }
   ],
   "metadata": {}
  },
  {
   "cell_type": "code",
   "execution_count": 43,
   "source": [
    "# returns error when missing \r\n",
    "get_missing = {'food': 'Spam', 'quantity': 4, 'color': 'pink'}\r\n",
    "get_missing['price']\r\n"
   ],
   "outputs": [
    {
     "output_type": "error",
     "ename": "KeyError",
     "evalue": "'price'",
     "traceback": [
      "\u001b[1;31m---------------------------------------------------------------------------\u001b[0m",
      "\u001b[1;31mKeyError\u001b[0m                                  Traceback (most recent call last)",
      "\u001b[1;32m<ipython-input-43-73266c1ee477>\u001b[0m in \u001b[0;36m<module>\u001b[1;34m\u001b[0m\n\u001b[0;32m      1\u001b[0m \u001b[1;31m# returns error when missing\u001b[0m\u001b[1;33m\u001b[0m\u001b[1;33m\u001b[0m\u001b[1;33m\u001b[0m\u001b[0m\n\u001b[0;32m      2\u001b[0m \u001b[0mget_missing\u001b[0m \u001b[1;33m=\u001b[0m \u001b[1;33m{\u001b[0m\u001b[1;34m'food'\u001b[0m\u001b[1;33m:\u001b[0m \u001b[1;34m'Spam'\u001b[0m\u001b[1;33m,\u001b[0m \u001b[1;34m'quantity'\u001b[0m\u001b[1;33m:\u001b[0m \u001b[1;36m4\u001b[0m\u001b[1;33m,\u001b[0m \u001b[1;34m'color'\u001b[0m\u001b[1;33m:\u001b[0m \u001b[1;34m'pink'\u001b[0m\u001b[1;33m}\u001b[0m\u001b[1;33m\u001b[0m\u001b[1;33m\u001b[0m\u001b[0m\n\u001b[1;32m----> 3\u001b[1;33m \u001b[0mget_missing\u001b[0m\u001b[1;33m[\u001b[0m\u001b[1;34m'price'\u001b[0m\u001b[1;33m]\u001b[0m\u001b[1;33m\u001b[0m\u001b[1;33m\u001b[0m\u001b[0m\n\u001b[0m",
      "\u001b[1;31mKeyError\u001b[0m: 'price'"
     ]
    }
   ],
   "metadata": {}
  },
  {
   "cell_type": "code",
   "execution_count": 44,
   "source": [
    "# can also use get method, especially when you want a default value\r\n",
    "get_missing_default = {'food': 'Spam', 'quantity': 4, 'color': 'pink'}\r\n",
    "get_missing_default.get('price', 2)\r\n"
   ],
   "outputs": [
    {
     "output_type": "execute_result",
     "data": {
      "text/plain": [
       "2"
      ]
     },
     "metadata": {},
     "execution_count": 44
    }
   ],
   "metadata": {}
  },
  {
   "cell_type": "code",
   "execution_count": 29,
   "source": [
    "# set item: O(1)\r\n",
    "set_dict = {}\r\n",
    "set_dict['name'] = 'Bob'\r\n",
    "set_dict"
   ],
   "outputs": [
    {
     "output_type": "execute_result",
     "data": {
      "text/plain": [
       "{'name': 'Bob'}"
      ]
     },
     "metadata": {},
     "execution_count": 29
    }
   ],
   "metadata": {}
  },
  {
   "cell_type": "code",
   "execution_count": 53,
   "source": [
    "# setdefault: returns the value of the item with the specified key.\r\n",
    "# If the key does not exist, insert the key, with the specified value, see example below\r\n",
    "setdefault_dict = {\r\n",
    "    \"brand\": \"Ford\",\r\n",
    "    \"year\": 1964\r\n",
    "}\r\n",
    "\r\n",
    "x = setdefault_dict.setdefault(\"model\", \"Bronco\")\r\n",
    "\r\n",
    "print(x)\r\n",
    "print(setdefault_dict)\r\n"
   ],
   "outputs": [
    {
     "output_type": "stream",
     "name": "stdout",
     "text": [
      "Bronco\n",
      "{'brand': 'Ford', 'year': 1964, 'model': 'Bronco'}\n"
     ]
    }
   ],
   "metadata": {}
  },
  {
   "cell_type": "code",
   "execution_count": 50,
   "source": [
    "# length: O(1)\r\n",
    "len_dict = {\r\n",
    "    \"brand\": \"Ford\",\r\n",
    "    \"model\": \"Mustang\",\r\n",
    "    \"year\": 1964\r\n",
    "}\r\n",
    "len(len_dict)\r\n"
   ],
   "outputs": [
    {
     "output_type": "execute_result",
     "data": {
      "text/plain": [
       "3"
      ]
     },
     "metadata": {},
     "execution_count": 50
    }
   ],
   "metadata": {}
  },
  {
   "cell_type": "code",
   "execution_count": 32,
   "source": [
    "# delete: pop()\r\n",
    "pop_dict = {\r\n",
    "    \"brand\": \"Ford\",\r\n",
    "    \"model\": \"Mustang\",\r\n",
    "    \"year\": 1964\r\n",
    "}\r\n",
    "\r\n",
    "popped = pop_dict.pop(\"model\")\r\n",
    "popped\r\n"
   ],
   "outputs": [
    {
     "output_type": "execute_result",
     "data": {
      "text/plain": [
       "'Mustang'"
      ]
     },
     "metadata": {},
     "execution_count": 32
    }
   ],
   "metadata": {}
  },
  {
   "cell_type": "code",
   "execution_count": 35,
   "source": [
    "# popping missing key without additional args  key returns KeyError\r\n",
    "pop_missing = {\r\n",
    "    \"brand\": \"Ford\",\r\n",
    "    \"model\": \"Mustang\",\r\n",
    "    \"year\": 1964\r\n",
    "}\r\n",
    "popped = pop_dict.pop(\"missing\")\r\n",
    "popped\r\n"
   ],
   "outputs": [
    {
     "output_type": "error",
     "ename": "KeyError",
     "evalue": "'missing'",
     "traceback": [
      "\u001b[1;31m---------------------------------------------------------------------------\u001b[0m",
      "\u001b[1;31mKeyError\u001b[0m                                  Traceback (most recent call last)",
      "\u001b[1;32m<ipython-input-35-aac86b09b2ed>\u001b[0m in \u001b[0;36m<module>\u001b[1;34m\u001b[0m\n\u001b[0;32m      4\u001b[0m     \u001b[1;34m\"year\"\u001b[0m\u001b[1;33m:\u001b[0m \u001b[1;36m1964\u001b[0m\u001b[1;33m\u001b[0m\u001b[1;33m\u001b[0m\u001b[0m\n\u001b[0;32m      5\u001b[0m }\n\u001b[1;32m----> 6\u001b[1;33m \u001b[0mpopped\u001b[0m \u001b[1;33m=\u001b[0m \u001b[0mpop_dict\u001b[0m\u001b[1;33m.\u001b[0m\u001b[0mpop\u001b[0m\u001b[1;33m(\u001b[0m\u001b[1;34m\"missing\"\u001b[0m\u001b[1;33m)\u001b[0m\u001b[1;33m\u001b[0m\u001b[1;33m\u001b[0m\u001b[0m\n\u001b[0m\u001b[0;32m      7\u001b[0m \u001b[0mpopped\u001b[0m\u001b[1;33m\u001b[0m\u001b[1;33m\u001b[0m\u001b[0m\n",
      "\u001b[1;31mKeyError\u001b[0m: 'missing'"
     ]
    }
   ],
   "metadata": {}
  },
  {
   "cell_type": "code",
   "execution_count": 36,
   "source": [
    "# can specify what to return\r\n",
    "pop_missing = {\r\n",
    "    \"brand\": \"Ford\",\r\n",
    "    \"model\": \"Mustang\",\r\n",
    "    \"year\": 1964\r\n",
    "}\r\n",
    "popped = pop_dict.pop(\"missing\",False)\r\n",
    "popped\r\n",
    "# you can also delete with del but there's not much point as it doesn't do anthing pop can't"
   ],
   "outputs": [
    {
     "output_type": "execute_result",
     "data": {
      "text/plain": [
       "False"
      ]
     },
     "metadata": {},
     "execution_count": 36
    }
   ],
   "metadata": {}
  },
  {
   "cell_type": "code",
   "execution_count": 51,
   "source": [
    "# pop_item: removes the item that was last inserted into the dictionary. In versions before 3.7, removes a random item.\r\n",
    "popitem_dict = {\r\n",
    "    \"brand\": \"Ford\",\r\n",
    "    \"model\": \"Mustang\",\r\n",
    "    \"year\": 1964\r\n",
    "}\r\n",
    "\r\n",
    "popped = popitem_dict.popitem()\r\n",
    "popped\r\n"
   ],
   "outputs": [
    {
     "output_type": "execute_result",
     "data": {
      "text/plain": [
       "('year', 1964)"
      ]
     },
     "metadata": {},
     "execution_count": 51
    }
   ],
   "metadata": {}
  },
  {
   "cell_type": "code",
   "execution_count": 38,
   "source": [
    "iter_dict = {\r\n",
    "    \"brand\": \"Ford\",\r\n",
    "    \"model\": \"Mustang\",\r\n",
    "    \"year\": 1964\r\n",
    "}\r\n",
    "\r\n",
    "for key in iter_dict:\r\n",
    "    print(key)\r\n"
   ],
   "outputs": [
    {
     "output_type": "stream",
     "name": "stdout",
     "text": [
      "brand\n",
      "model\n",
      "year\n"
     ]
    }
   ],
   "metadata": {}
  },
  {
   "cell_type": "code",
   "execution_count": 26,
   "source": [
    "# copying O(n): creates a SHALLOW COPY of the dict \r\n",
    "deep_dict = {'a': {1:{3:{2:[4]}}}, 5: 2, 'c': []}\r\n",
    "deep_dict_copy = deep_dict.copy()\r\n",
    "print(\"we deep_dict_copy looks identical\", deep_dict_copy, end=\"\\n\\n\")\r\n",
    "deep_dict['a'][1][3] = 9\r\n",
    "print(\"after a deep change of deep_dict:\", deep_dict)\r\n",
    "print(\"...but deep_dict_copy looks like:\", deep_dict_copy, end=\"\\n\\n\")\r\n",
    "deep_dict[5]=4\r\n",
    "print(\"after a shallow change of deep_dict:\", deep_dict)\r\n",
    "print(\".but then deep_dict_copy looks like:\", deep_dict_copy, end=\"\\n\\n\")\r\n",
    "deep_dict['c'].append('here')\r\n",
    "print(\"after adding to a list in deep_dict:\", deep_dict)\r\n",
    "print(\".but then deep_dict_copy looks like:\", deep_dict_copy)\r\n"
   ],
   "outputs": [
    {
     "output_type": "stream",
     "name": "stdout",
     "text": [
      "we deep_dict_copy looks identical {'a': {1: {3: {2: [4]}}}, 5: 2, 'c': []}\n",
      "\n",
      "after a deep change of deep_dict: {'a': {1: {3: 9}}, 5: 2, 'c': []}\n",
      "...but deep_dict_copy looks like: {'a': {1: {3: 9}}, 5: 2, 'c': []}\n",
      "\n",
      "after a shallow change of deep_dict: {'a': {1: {3: 9}}, 5: 4, 'c': []}\n",
      ".but then deep_dict_copy looks like: {'a': {1: {3: 9}}, 5: 2, 'c': []}\n",
      "\n",
      "after adding to a list in deep_dict: {'a': {1: {3: 9}}, 5: 4, 'c': ['here']}\n",
      ".but then deep_dict_copy looks like: {'a': {1: {3: 9}}, 5: 2, 'c': ['here']}\n"
     ]
    }
   ],
   "metadata": {}
  },
  {
   "cell_type": "markdown",
   "source": [
    "## Dictionary creation methods"
   ],
   "metadata": {}
  },
  {
   "cell_type": "code",
   "execution_count": 39,
   "source": [
    "# keyword args\r\n",
    "\r\n",
    "bob1 = dict(name='Bob', job='dev', age=40)\r\n",
    "bob1"
   ],
   "outputs": [
    {
     "output_type": "execute_result",
     "data": {
      "text/plain": [
       "{'name': 'Bob', 'job': 'dev', 'age': 40}"
      ]
     },
     "metadata": {},
     "execution_count": 39
    }
   ],
   "metadata": {}
  },
  {
   "cell_type": "code",
   "execution_count": 40,
   "source": [
    "# zipping lists\r\n",
    "bob2 = dict(zip(['name', 'job', 'age'], ['Bob', 'dev', 40]))\r\n",
    "bob2"
   ],
   "outputs": [
    {
     "output_type": "execute_result",
     "data": {
      "text/plain": [
       "{'name': 'Bob', 'job': 'dev', 'age': 40}"
      ]
     },
     "metadata": {},
     "execution_count": 40
    }
   ],
   "metadata": {}
  },
  {
   "cell_type": "code",
   "execution_count": 52,
   "source": [
    "bob3 = dict([('name', 'Bob'), ('age', 40)])\r\n",
    "bob3"
   ],
   "outputs": [
    {
     "output_type": "execute_result",
     "data": {
      "text/plain": [
       "{'name': 'Bob', 'age': 40}"
      ]
     },
     "metadata": {},
     "execution_count": 52
    }
   ],
   "metadata": {}
  },
  {
   "cell_type": "markdown",
   "source": [
    "## Merging dictionaries"
   ],
   "metadata": {}
  },
  {
   "cell_type": "markdown",
   "source": [
    "### `update()`\r\n",
    "- can only be used for merging two dicts\r\n",
    "- may want to use to stay compatible with older versions\r\n",
    "- inefficient as it uses a temporary variable to update d1 "
   ],
   "metadata": {}
  },
  {
   "cell_type": "code",
   "execution_count": 2,
   "source": [
    "\r\n",
    "update1 = {'a': 1, 'b': 2}\r\n",
    "update2 = {'b': 3, 'c': 4}\r\n",
    "update1.update(update2)\r\n",
    "# modifies d1 in-place\r\n",
    "update1"
   ],
   "outputs": [
    {
     "output_type": "execute_result",
     "data": {
      "text/plain": [
       "{'a': 1, 'b': 3, 'c': 4}"
      ]
     },
     "metadata": {},
     "execution_count": 2
    }
   ],
   "metadata": {}
  },
  {
   "cell_type": "code",
   "execution_count": 3,
   "source": [
    "# unpacking\r\n",
    "unpack1 = {'a': 1, 'b': 2}\r\n",
    "unpack2 = {'b': 3, 'c': 4}\r\n",
    "dict_unpacked = dict(unpack1, **unpack2)\r\n",
    "dict_unpacked\r\n"
   ],
   "outputs": [
    {
     "output_type": "execute_result",
     "data": {
      "text/plain": [
       "{'a': 1, 'b': 3, 'c': 4}"
      ]
     },
     "metadata": {},
     "execution_count": 3
    }
   ],
   "metadata": {}
  },
  {
   "cell_type": "code",
   "execution_count": 5,
   "source": [
    "# prettier unpacking - better cos it doesn't use the temp var\r\n",
    "pretty_unpack1 = {'a': 1, 'b': 2}\r\n",
    "pretty_unpack2 = {'b': 3, 'c': 4}\r\n",
    "pretty_unpacked = {**pretty_unpack1, **pretty_unpack2}\r\n",
    "pretty_unpacked\r\n"
   ],
   "outputs": [
    {
     "output_type": "execute_result",
     "data": {
      "text/plain": [
       "{'a': 1, 'b': 3, 'c': 4}"
      ]
     },
     "metadata": {},
     "execution_count": 5
    }
   ],
   "metadata": {}
  },
  {
   "cell_type": "code",
   "execution_count": 3,
   "source": [
    "# py3.9: dict union | returns a new dict\r\n",
    "union1 = {'a': 1, 'b': 2}\r\n",
    "union2 = {'b': 3, 'c': 4}\r\n",
    "union1 | union2\r\n"
   ],
   "outputs": [
    {
     "output_type": "execute_result",
     "data": {
      "text/plain": [
       "{'a': 1, 'b': 3, 'c': 4}"
      ]
     },
     "metadata": {},
     "execution_count": 3
    }
   ],
   "metadata": {}
  },
  {
   "cell_type": "code",
   "execution_count": 5,
   "source": [
    "# py3.9: dict update |= does the operation in place\r\n",
    "union1 = {'a': 1, 'b': 2}\r\n",
    "union2 = {'b': 3, 'c': 4}\r\n",
    "union1 |= union2\r\n",
    "union1\r\n"
   ],
   "outputs": [
    {
     "output_type": "execute_result",
     "data": {
      "text/plain": [
       "{'a': 1, 'b': 3, 'c': 4}"
      ]
     },
     "metadata": {},
     "execution_count": 5
    }
   ],
   "metadata": {}
  },
  {
   "cell_type": "markdown",
   "source": [
    "## Dictionary restrictions"
   ],
   "metadata": {}
  },
  {
   "cell_type": "code",
   "execution_count": 1,
   "source": [
    "# Because an insert can radically reorder a dictionary. key insertion is prohibited during iteration\r\n",
    "no_insertion = {'double':2, 'trouble':3}\r\n",
    "\r\n",
    "for key in no_insertion:\r\n",
    "    no_insertion['fire'] = 6\r\n"
   ],
   "outputs": [
    {
     "output_type": "error",
     "ename": "RuntimeError",
     "evalue": "dictionary changed size during iteration",
     "traceback": [
      "\u001b[1;31m---------------------------------------------------------------------------\u001b[0m",
      "\u001b[1;31mRuntimeError\u001b[0m                              Traceback (most recent call last)",
      "\u001b[1;32m<ipython-input-1-e2a6a8827449>\u001b[0m in \u001b[0;36m<module>\u001b[1;34m\u001b[0m\n\u001b[0;32m      1\u001b[0m \u001b[0mno_insertion\u001b[0m \u001b[1;33m=\u001b[0m \u001b[1;33m{\u001b[0m\u001b[1;34m'double'\u001b[0m\u001b[1;33m:\u001b[0m\u001b[1;36m2\u001b[0m\u001b[1;33m,\u001b[0m \u001b[1;34m'trouble'\u001b[0m\u001b[1;33m:\u001b[0m\u001b[1;36m3\u001b[0m\u001b[1;33m}\u001b[0m\u001b[1;33m\u001b[0m\u001b[1;33m\u001b[0m\u001b[0m\n\u001b[0;32m      2\u001b[0m \u001b[1;33m\u001b[0m\u001b[0m\n\u001b[1;32m----> 3\u001b[1;33m \u001b[1;32mfor\u001b[0m \u001b[0mkey\u001b[0m \u001b[1;32min\u001b[0m \u001b[0mno_insertion\u001b[0m\u001b[1;33m:\u001b[0m\u001b[1;33m\u001b[0m\u001b[1;33m\u001b[0m\u001b[0m\n\u001b[0m\u001b[0;32m      4\u001b[0m     \u001b[0mno_insertion\u001b[0m\u001b[1;33m[\u001b[0m\u001b[1;34m'fire'\u001b[0m\u001b[1;33m]\u001b[0m \u001b[1;33m=\u001b[0m \u001b[1;36m6\u001b[0m\u001b[1;33m\u001b[0m\u001b[1;33m\u001b[0m\u001b[0m\n",
      "\u001b[1;31mRuntimeError\u001b[0m: dictionary changed size during iteration"
     ]
    }
   ],
   "metadata": {}
  },
  {
   "cell_type": "markdown",
   "source": [
    "# `defaultdict`"
   ],
   "metadata": {}
  },
  {
   "cell_type": "code",
   "execution_count": 54,
   "source": [
    "from collections import defaultdict\r\n",
    "s = [('yellow', 1), ('blue', 2), ('yellow', 3), ('blue', 4), ('red', 1)]\r\n",
    "d = defaultdict(list)\r\n",
    "for k, v in s:\r\n",
    "    d[k].append(v)\r\n",
    "d"
   ],
   "outputs": [
    {
     "output_type": "execute_result",
     "data": {
      "text/plain": [
       "defaultdict(list, {'yellow': [1, 3], 'blue': [2, 4], 'red': [1]})"
      ]
     },
     "metadata": {},
     "execution_count": 54
    }
   ],
   "metadata": {}
  },
  {
   "cell_type": "markdown",
   "source": [
    "# Other types of dict\r\n",
    "\r\n",
    "## `collections.OrderedDict`\r\n",
    "- introduced in 3.1 (backported to 2.7 )\r\n",
    "- preserves insertion order (useful if trying to maintain compatibility)\r\n",
    "- bigger and slower\r\n",
    "\r\n",
    "## `types.MappingProxyType`\r\n",
    "- makes dictionary read-only\r\n",
    "\r\n",
    "## `collections.ChainMap`\r\n",
    "- groups dictionaries into a single mapping\r\n",
    "- chain search through all with one command i.e. `chain['key']`"
   ],
   "metadata": {}
  },
  {
   "cell_type": "code",
   "execution_count": 2,
   "source": [
    "from collections import ChainMap\r\n",
    "p1 = {\"name\": \"John\", \"email_id\": \"john@university.org\", \"ID\": \"C10215\"}\r\n",
    "p2 = {\"name\": \"Ram\", \"email_id\": \"ram@university.org\",\r\n",
    "      \"classes\": [\"C101\", \"S204\", \"DA065\"]}\r\n",
    "p3 = {\"name\": \"Wendy\", \"email_id\": \"wendy@university.org\", \"GPA\": \"3.0\"}\r\n",
    "# itertools.chainedMap() encapsulates many dictionaries into one unit.\r\n",
    "chain = ChainMap(p1, p2, p3)\r\n",
    "print(\"Keys in chain\")\r\n",
    "print(list(chain.keys()), end=\"\\n\\n\")\r\n",
    "\r\n",
    "print(\"Values in chain\")\r\n",
    "print(list(chain.values()), end=\"\\n\\n\")\r\n",
    "\r\n",
    "print(\"All dicts in chain\")\r\n",
    "print(chain.maps, end=\"\\n\\n\")\r\n"
   ],
   "outputs": [
    {
     "output_type": "stream",
     "name": "stdout",
     "text": [
      "Keys in chain\n",
      "['name', 'email_id', 'GPA', 'classes', 'ID']\n",
      "\n",
      "Values in chain\n",
      "['John', 'john@university.org', '3.0', ['C101', 'S204', 'DA065'], 'C10215']\n",
      "\n",
      "All dicts in chain\n",
      "[{'name': 'John', 'email_id': 'john@university.org', 'ID': 'C10215'}, {'name': 'Ram', 'email_id': 'ram@university.org', 'classes': ['C101', 'S204', 'DA065']}, {'name': 'Wendy', 'email_id': 'wendy@university.org', 'GPA': '3.0'}]\n",
      "\n"
     ]
    }
   ],
   "metadata": {}
  },
  {
   "cell_type": "code",
   "execution_count": 3,
   "source": [
    "# .new_child() adds a new dictionary to the beginning of the ChainMap.\r\n",
    "pens = {\"Ballpoint Pen-Blue\": 30, \"Ballpoint Pen-Black\": 5,\r\n",
    "        \"Gel Pen-Blue\": 50, \"Gel Pen-Black\": 10}\r\n",
    "notebooks = {\"Wide-Ruled-175\": 200, \"Wide-Unruled-175\": 160,\r\n",
    "             \"A4-Ruled-200\": 350, \"A4-Unruled-100\": 10}\r\n",
    "rulers = {\"Long Ruler-12in\": 100, \"Short Ruler-6in\": 30}\r\n",
    "calculator = {\"Basic Calculator\": 50, \"Scientific Calculator\": 20}\r\n",
    "erasers = {\"Basic Eraser\": 5, \"With Pictures\": 60}\r\n",
    "\r\n",
    "\r\n",
    "store_inventory =ChainMap(\r\n",
    "    pens, notebooks, rulers, calculator, erasers)\r\n",
    "    \r\n",
    "folders = {\"Ring Folder\": 15}\r\n",
    "store_inventory.new_child(folders)\r\n"
   ],
   "outputs": [
    {
     "output_type": "execute_result",
     "data": {
      "text/plain": [
       "ChainMap({'Ring Folder': 15}, {'Ballpoint Pen-Blue': 30, 'Ballpoint Pen-Black': 5, 'Gel Pen-Blue': 50, 'Gel Pen-Black': 10}, {'Wide-Ruled-175': 200, 'Wide-Unruled-175': 160, 'A4-Ruled-200': 350, 'A4-Unruled-100': 10}, {'Long Ruler-12in': 100, 'Short Ruler-6in': 30}, {'Basic Calculator': 50, 'Scientific Calculator': 20}, {'Basic Eraser': 5, 'With Pictures': 60})"
      ]
     },
     "metadata": {},
     "execution_count": 3
    }
   ],
   "metadata": {}
  },
  {
   "cell_type": "code",
   "execution_count": null,
   "source": [],
   "outputs": [],
   "metadata": {}
  }
 ],
 "metadata": {
  "orig_nbformat": 4,
  "language_info": {
   "name": "python",
   "version": "3.9.1",
   "mimetype": "text/x-python",
   "codemirror_mode": {
    "name": "ipython",
    "version": 3
   },
   "pygments_lexer": "ipython3",
   "nbconvert_exporter": "python",
   "file_extension": ".py"
  },
  "kernelspec": {
   "name": "python3",
   "display_name": "Python 3.9.1 64-bit ('venv': venv)"
  },
  "interpreter": {
   "hash": "66fed39441b8c32cb020d747b86ff5961711bba3c6e96157e70abc62bcbf3db6"
  }
 },
 "nbformat": 4,
 "nbformat_minor": 2
}
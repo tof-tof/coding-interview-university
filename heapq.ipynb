{
 "cells": [
  {
   "cell_type": "code",
   "execution_count": 3,
   "source": [
    "import heapq "
   ],
   "outputs": [],
   "metadata": {}
  },
  {
   "cell_type": "markdown",
   "source": [
    "# heapq\r\n",
    "\r\n",
    "sometimes its useful to use the underlying heap structure presented by heapq for time efficiency or provided methods"
   ],
   "metadata": {}
  },
  {
   "cell_type": "code",
   "execution_count": 6,
   "source": [
    "# heapify: Transform list into a heap, in-place, in linear time.\r\n",
    "list_to_heap = [2, 9, 4, 7, 4, 5, 8]\r\n",
    "heapq.heapify(list_to_heap)\r\n",
    "list_to_heap\r\n"
   ],
   "outputs": [
    {
     "output_type": "execute_result",
     "data": {
      "text/plain": [
       "[2, 4, 4, 7, 9, 5, 8]"
      ]
     },
     "metadata": {},
     "execution_count": 6
    }
   ],
   "metadata": {}
  },
  {
   "cell_type": "markdown",
   "source": [
    "you can find, push, pop and there some useful methods for list manipulation such as:"
   ],
   "metadata": {}
  },
  {
   "cell_type": "code",
   "execution_count": 8,
   "source": [
    "# merge(*iterables, key=None, reverse=False): merge to sorted inputs into sorted outputs\r\n",
    "# returns and iterator over the values\r\n",
    "merge1 = [2, 4, 7,]\r\n",
    "merge2 = [4, 5, 8]\r\n",
    "for item in heapq.merge(merge1,merge2):\r\n",
    "    print(item)\r\n"
   ],
   "outputs": [
    {
     "output_type": "stream",
     "name": "stdout",
     "text": [
      "2\n",
      "4\n",
      "4\n",
      "5\n",
      "7\n",
      "8\n"
     ]
    }
   ],
   "metadata": {}
  },
  {
   "cell_type": "code",
   "execution_count": null,
   "source": [],
   "outputs": [],
   "metadata": {}
  }
 ],
 "metadata": {
  "orig_nbformat": 4,
  "language_info": {
   "name": "python",
   "version": "3.7.3",
   "mimetype": "text/x-python",
   "codemirror_mode": {
    "name": "ipython",
    "version": 3
   },
   "pygments_lexer": "ipython3",
   "nbconvert_exporter": "python",
   "file_extension": ".py"
  },
  "kernelspec": {
   "name": "python3",
   "display_name": "Python 3.7.3 64-bit ('base': conda)"
  },
  "interpreter": {
   "hash": "1f6f5b05f6b17a715395ee32c655d2a555469c9b738ef92421f45abe63f60879"
  }
 },
 "nbformat": 4,
 "nbformat_minor": 2
}
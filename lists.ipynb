{
    "cells": [
        {
            "cell_type": "markdown",
            "source": [
                "# lists\r\n",
                "* can contain different types\r\n",
                "* accessed by offset [O(1) operation]\r\n",
                "    > `myList[0]`\r\n",
                "* support nesting ( you can make lists of lists)\r\n",
                "* variable length\r\n",
                "\r\n",
                "## Fact File\r\n",
                "**mutable**: yes  \r\n",
                "**ordered**: yes\r\n",
                "\r\n",
                "# Implementation\r\n",
                "* arrays of pointers to objects\r\n",
                "* lists are arrays inside the interpreter ***NOT*** linked structures\r\n",
                "    - values are assigned to and retrieved from specific, known memory locations\r\n",
                "    - dynamically resizing C arrays\r\n",
                "\r\n",
                "\r\n",
                "## Operations\r\n",
                "## Built-in operators on lists\r\n",
                "most functions in this section that return an object actually return a completely new object\r\n",
                "### Indexing and slicing\r\n",
                "`myList[start:stop:step]`  \r\n",
                "\r\n",
                "all operations involving this form are in-place\r\n",
                "#### Defaults:  \r\n",
                "start: 0  \r\n",
                "stop: the end of the list  \r\n",
                "step: 1  \r\n"
            ],
            "metadata": {}
        },
        {
            "cell_type": "code",
            "execution_count": 28,
            "source": [
                "neg_index = ['a','b','c']\r\n",
                "neg_index[-2]\r\n"
            ],
            "outputs": [
                {
                    "output_type": "execute_result",
                    "data": {
                        "text/plain": [
                            "'b'"
                        ]
                    },
                    "metadata": {},
                    "execution_count": 28
                }
            ],
            "metadata": {}
        },
        {
            "cell_type": "code",
            "execution_count": 56,
            "source": [
                "# alternative way of deleteing from a list\r\n",
                "# getting a slice is O(k) operation where k is the size of the slice\r\n",
                "assign_section = ['Already', 'got', 'one']\r\n",
                "assign_section[1:] =[]\r\n",
                "assign_section"
            ],
            "outputs": [
                {
                    "output_type": "execute_result",
                    "data": {
                        "text/plain": [
                            "['Already']"
                        ]
                    },
                    "metadata": {},
                    "execution_count": 56
                }
            ],
            "metadata": {}
        },
        {
            "cell_type": "code",
            "execution_count": 16,
            "source": [
                "# Length\r\n",
                "len([1,2,3]) "
            ],
            "outputs": [
                {
                    "output_type": "execute_result",
                    "data": {
                        "text/plain": [
                            "3"
                        ]
                    },
                    "metadata": {},
                    "execution_count": 16
                }
            ],
            "metadata": {}
        },
        {
            "cell_type": "code",
            "execution_count": 5,
            "source": [
                "# Concatenation: O(n)\r\n",
                "[1, 2, 3 ] + [4,5,6] "
            ],
            "outputs": [
                {
                    "output_type": "execute_result",
                    "data": {
                        "text/plain": [
                            "[1, 2, 3, 4, 5, 6]"
                        ]
                    },
                    "metadata": {},
                    "execution_count": 5
                }
            ],
            "metadata": {}
        },
        {
            "cell_type": "code",
            "execution_count": 11,
            "source": [
                "#Repitiion/Multiplication o(nk) multiple n sized list k times\r\n",
                "\r\n",
                "['N'] * 4"
            ],
            "outputs": [
                {
                    "output_type": "execute_result",
                    "data": {
                        "text/plain": [
                            "['N', 'N', 'N', 'N']"
                        ]
                    },
                    "metadata": {},
                    "execution_count": 11
                }
            ],
            "metadata": {}
        },
        {
            "cell_type": "code",
            "execution_count": 13,
            "source": [
                "# Membership: O(n)\r\n",
                "3 in [1,2,3]"
            ],
            "outputs": [
                {
                    "output_type": "execute_result",
                    "data": {
                        "text/plain": [
                            "True"
                        ]
                    },
                    "metadata": {},
                    "execution_count": 13
                }
            ],
            "metadata": {}
        },
        {
            "cell_type": "code",
            "execution_count": 30,
            "source": [
                "sorted_list = ['abc', 'ABD', 'aBe']\r\n",
                "sorted(sorted_list, key=str.lower, reverse=True)\r\n"
            ],
            "outputs": [
                {
                    "output_type": "execute_result",
                    "data": {
                        "text/plain": [
                            "['aBe', 'ABD', 'abc']"
                        ]
                    },
                    "metadata": {},
                    "execution_count": 30
                }
            ],
            "metadata": {}
        },
        {
            "cell_type": "code",
            "execution_count": 14,
            "source": [
                "# map\r\n",
                "\r\n",
                "list(map(abs, [-1,-2,0,1,2]))"
            ],
            "outputs": [
                {
                    "output_type": "execute_result",
                    "data": {
                        "text/plain": [
                            "[1, 2, 0, 1, 2]"
                        ]
                    },
                    "metadata": {},
                    "execution_count": 14
                }
            ],
            "metadata": {}
        },
        {
            "cell_type": "markdown",
            "source": [
                "### `del`\r\n",
                "\r\n",
                "O(n)"
            ],
            "metadata": {}
        },
        {
            "cell_type": "code",
            "execution_count": 52,
            "source": [
                "del_one = ['spam', 'eggs', 'ham', 'toast']\r\n",
                "del del_one[0]\r\n",
                "del_one\r\n"
            ],
            "outputs": [
                {
                    "output_type": "execute_result",
                    "data": {
                        "text/plain": [
                            "['eggs', 'ham', 'toast']"
                        ]
                    },
                    "metadata": {},
                    "execution_count": 52
                }
            ],
            "metadata": {}
        },
        {
            "cell_type": "code",
            "execution_count": 53,
            "source": [
                "del_section = L = ['spam', 'eggs', 'ham', 'toast']\r\n",
                "del del_section[1:]\r\n",
                "del_section"
            ],
            "outputs": [
                {
                    "output_type": "execute_result",
                    "data": {
                        "text/plain": [
                            "['spam']"
                        ]
                    },
                    "metadata": {},
                    "execution_count": 53
                }
            ],
            "metadata": {}
        },
        {
            "cell_type": "markdown",
            "source": [
                "## Type-specific methods\r\n",
                "all of the following methods are in-place (mutates the original list rather than giving you a new one)"
            ],
            "metadata": {}
        },
        {
            "cell_type": "code",
            "execution_count": 18,
            "source": [
                "# append(item) : amortised O(1)\r\n",
                "app_list = [1,2,3]\r\n",
                "app_list.append(4)\r\n",
                "app_list\r\n"
            ],
            "outputs": [
                {
                    "output_type": "execute_result",
                    "data": {
                        "text/plain": [
                            "[1, 2, 3, 4]"
                        ]
                    },
                    "metadata": {},
                    "execution_count": 18
                }
            ],
            "metadata": {}
        },
        {
            "cell_type": "code",
            "execution_count": 43,
            "source": [
                "# insert(index, item) : O(n)\r\n",
                "ins_list = ['spam', 'eggs', 'ham']\r\n",
                "ins_list.insert(1, 'toast')\r\n",
                "ins_list"
            ],
            "outputs": [
                {
                    "output_type": "execute_result",
                    "data": {
                        "text/plain": [
                            "['spam', 'toast', 'eggs', 'ham']"
                        ]
                    },
                    "metadata": {},
                    "execution_count": 43
                }
            ],
            "metadata": {}
        },
        {
            "cell_type": "code",
            "execution_count": 19,
            "source": [
                "# extend(list) : O(k) k = length of list to be added (argument of extend() )\r\n",
                "ext_list = [2, 3, 4, 1, 5, 6, 7]\r\n",
                "ext_list.extend([8, 9, 10])\r\n",
                "ext_list"
            ],
            "outputs": [
                {
                    "output_type": "execute_result",
                    "data": {
                        "text/plain": [
                            "[2, 3, 4, 1, 5, 6, 7, 8, 9, 10]"
                        ]
                    },
                    "metadata": {},
                    "execution_count": 19
                }
            ],
            "metadata": {}
        },
        {
            "cell_type": "code",
            "execution_count": 45,
            "source": [
                "# index(item)\r\n",
                "index_list = ['spam', 'eggs', 'ham', 'eggs']\r\n",
                "index_list.index('eggs') # finds first occurence"
            ],
            "outputs": [
                {
                    "output_type": "execute_result",
                    "data": {
                        "text/plain": [
                            "1"
                        ]
                    },
                    "metadata": {},
                    "execution_count": 45
                }
            ],
            "metadata": {}
        },
        {
            "cell_type": "code",
            "execution_count": 50,
            "source": [
                "#count(item)\r\n",
                "count_list = ['spam', 'eggs', 'ham', 'eggs']\r\n",
                "count_list.count('eggs')\r\n"
            ],
            "outputs": [
                {
                    "output_type": "execute_result",
                    "data": {
                        "text/plain": [
                            "2"
                        ]
                    },
                    "metadata": {},
                    "execution_count": 50
                }
            ],
            "metadata": {}
        },
        {
            "cell_type": "markdown",
            "source": [
                "### pop: \r\n",
                "- from the end (no params given): O(1)\r\n",
                "- given a specific index: O(n)  \r\n",
                "    *When an item is taken from the front of a Python list, all other elements in the list are shifted one position closer to the beginning*  "
            ],
            "metadata": {}
        },
        {
            "cell_type": "code",
            "execution_count": 36,
            "source": [
                "pop_list = [1, 2, 3, 4, 5]\r\n",
                "pop_list.pop()\r\n"
            ],
            "outputs": [
                {
                    "output_type": "execute_result",
                    "data": {
                        "text/plain": [
                            "5"
                        ]
                    },
                    "metadata": {},
                    "execution_count": 36
                }
            ],
            "metadata": {}
        },
        {
            "cell_type": "code",
            "execution_count": 41,
            "source": [
                "pop_index = ['spam', 'toast', 'ham']\r\n",
                "pop_index.pop(1)"
            ],
            "outputs": [
                {
                    "output_type": "execute_result",
                    "data": {
                        "text/plain": [
                            "'toast'"
                        ]
                    },
                    "metadata": {},
                    "execution_count": 41
                }
            ],
            "metadata": {}
        },
        {
            "cell_type": "code",
            "execution_count": 47,
            "source": [
                "# remove(item)\r\n",
                "rem_list = ['spam', 'eggs', 'ham', 'eggs']\r\n",
                "rem_list.remove('eggs') # removes first occurence\r\n",
                "rem_list"
            ],
            "outputs": [
                {
                    "output_type": "execute_result",
                    "data": {
                        "text/plain": [
                            "['spam', 'ham', 'eggs']"
                        ]
                    },
                    "metadata": {},
                    "execution_count": 47
                }
            ],
            "metadata": {}
        },
        {
            "cell_type": "code",
            "execution_count": 38,
            "source": [
                "# reverse :\r\n",
                "rev_list = [1, 2, 3, 4]\r\n",
                "rev_list.reverse()\r\n",
                "rev_list"
            ],
            "outputs": [
                {
                    "output_type": "execute_result",
                    "data": {
                        "text/plain": [
                            "[4, 3, 2, 1]"
                        ]
                    },
                    "metadata": {},
                    "execution_count": 38
                }
            ],
            "metadata": {}
        },
        {
            "cell_type": "markdown",
            "source": [
                "### Sort\r\n",
                "O(n log n)  "
            ],
            "metadata": {}
        },
        {
            "cell_type": "code",
            "execution_count": 22,
            "source": [
                "sort_list = ['eat', 'more', 'SPAM!', 'please'] \r\n",
                "sort_list.sort()\r\n",
                "sort_list # note 'S' < 'e'"
            ],
            "outputs": [
                {
                    "output_type": "execute_result",
                    "data": {
                        "text/plain": [
                            "['SPAM!', 'eat', 'more', 'please']"
                        ]
                    },
                    "metadata": {},
                    "execution_count": 22
                }
            ],
            "metadata": {}
        },
        {
            "cell_type": "code",
            "execution_count": 23,
            "source": [
                "mixed_case = ['abc', 'ABD', 'aBe']\r\n",
                "mixed_case.sort()\r\n",
                "mixed_case"
            ],
            "outputs": [
                {
                    "output_type": "execute_result",
                    "data": {
                        "text/plain": [
                            "['ABD', 'aBe', 'abc']"
                        ]
                    },
                    "metadata": {},
                    "execution_count": 23
                }
            ],
            "metadata": {}
        },
        {
            "cell_type": "code",
            "execution_count": 26,
            "source": [
                "rev_sort = ['abc', 'ABD', 'aBe']\r\n",
                "rev_sort.sort(reverse=True)\r\n",
                "rev_sort\r\n"
            ],
            "outputs": [
                {
                    "output_type": "execute_result",
                    "data": {
                        "text/plain": [
                            "['abc', 'aBe', 'ABD']"
                        ]
                    },
                    "metadata": {},
                    "execution_count": 26
                }
            ],
            "metadata": {}
        },
        {
            "cell_type": "code",
            "execution_count": 27,
            "source": [
                "key_sort = ['abc', 'ABD', 'aBe']\r\n",
                "key_sort.sort(key=str.lower)\r\n",
                "key_sort"
            ],
            "outputs": [
                {
                    "output_type": "execute_result",
                    "data": {
                        "text/plain": [
                            "['abc', 'ABD', 'aBe']"
                        ]
                    },
                    "metadata": {},
                    "execution_count": 27
                }
            ],
            "metadata": {}
        },
        {
            "cell_type": "markdown",
            "source": [
                "## List Comphrensions"
            ],
            "metadata": {}
        },
        {
            "cell_type": "markdown",
            "source": [],
            "metadata": {}
        },
        {
            "cell_type": "code",
            "execution_count": null,
            "source": [],
            "outputs": [],
            "metadata": {}
        }
    ],
    "metadata": {
        "orig_nbformat": 4,
        "language_info": {
            "name": "python",
            "version": "3.7.3",
            "mimetype": "text/x-python",
            "codemirror_mode": {
                "name": "ipython",
                "version": 3
            },
            "pygments_lexer": "ipython3",
            "nbconvert_exporter": "python",
            "file_extension": ".py"
        },
        "kernelspec": {
            "name": "python3",
            "display_name": "Python 3.7.3 64-bit ('base': conda)"
        },
        "interpreter": {
            "hash": "1f6f5b05f6b17a715395ee32c655d2a555469c9b738ef92421f45abe63f60879"
        }
    },
    "nbformat": 4,
    "nbformat_minor": 2
}
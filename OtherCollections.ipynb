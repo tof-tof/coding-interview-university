{
 "cells": [
  {
   "cell_type": "markdown",
   "metadata": {},
   "source": [
    "# `Counter`"
   ]
  },
  {
   "cell_type": "code",
   "execution_count": 2,
   "metadata": {},
   "outputs": [],
   "source": [
    "from collections import Counter"
   ]
  },
  {
   "cell_type": "code",
   "execution_count": 1,
   "metadata": {},
   "outputs": [],
   "source": [
    "favorite_colors = ['red', 'blue', 'black', 'black', 'white', 'pink', 'turquoise',\n",
    "                   'red', 'purple', 'magenta', 'yellow', 'indigo', 'black', 'red', 'pink']\n"
   ]
  },
  {
   "cell_type": "code",
   "execution_count": 3,
   "metadata": {},
   "outputs": [
    {
     "name": "stdout",
     "output_type": "stream",
     "text": [
      "Counter({'red': 3, 'black': 3, 'pink': 2, 'blue': 1, 'white': 1, 'turquoise': 1, 'purple': 1, 'magenta': 1, 'yellow': 1, 'indigo': 1})\n"
     ]
    }
   ],
   "source": [
    "# collections.Counter(iterable)\n",
    "colors_counter = Counter(favorite_colors)\n",
    "print(colors_counter)\n",
    "\n"
   ]
  },
  {
   "cell_type": "code",
   "execution_count": 5,
   "metadata": {},
   "outputs": [
    {
     "data": {
      "text/plain": [
       "['black',\n",
       " 'black',\n",
       " 'black',\n",
       " 'blue',\n",
       " 'indigo',\n",
       " 'magenta',\n",
       " 'pink',\n",
       " 'pink',\n",
       " 'purple',\n",
       " 'red',\n",
       " 'red',\n",
       " 'red',\n",
       " 'turquoise',\n",
       " 'white',\n",
       " 'yellow']"
      ]
     },
     "execution_count": 5,
     "metadata": {},
     "output_type": "execute_result"
    }
   ],
   "source": [
    "# elements returns an iterator (generator )\n",
    "sorted(colors_counter.elements())\n"
   ]
  },
  {
   "cell_type": "code",
   "execution_count": 11,
   "metadata": {},
   "outputs": [
    {
     "data": {
      "text/plain": [
       "True"
      ]
     },
     "execution_count": 11,
     "metadata": {},
     "output_type": "execute_result"
    }
   ],
   "source": [
    "colors_counter['red']\n"
   ]
  },
  {
   "cell_type": "code",
   "execution_count": 9,
   "metadata": {},
   "outputs": [
    {
     "data": {
      "text/plain": [
       "dict_items([('red', 3), ('blue', 1), ('black', 3), ('white', 1), ('pink', 2), ('turquoise', 1), ('purple', 1), ('magenta', 1), ('yellow', 1), ('indigo', 1)])"
      ]
     },
     "execution_count": 9,
     "metadata": {},
     "output_type": "execute_result"
    }
   ],
   "source": [
    "colors_counter.items()"
   ]
  },
  {
   "cell_type": "code",
   "execution_count": 4,
   "metadata": {},
   "outputs": [
    {
     "name": "stdout",
     "output_type": "stream",
     "text": [
      "Top 3 color preferences:  [('red', 3), ('black', 3), ('pink', 2)]\n"
     ]
    }
   ],
   "source": [
    "# most_common(n) can be used to return the first n most repeated elements\n",
    "print('Top 3 color preferences: ', colors_counter.most_common(3))\n"
   ]
  },
  {
   "cell_type": "markdown",
   "metadata": {},
   "source": [
    "# `namedtuple()`"
   ]
  },
  {
   "cell_type": "code",
   "execution_count": 1,
   "metadata": {},
   "outputs": [],
   "source": [
    "from collections import namedtuple\n"
   ]
  },
  {
   "cell_type": "code",
   "execution_count": 3,
   "metadata": {},
   "outputs": [
    {
     "name": "stdout",
     "output_type": "stream",
     "text": [
      "Student(firstname='John', lastname='Smith', major='Computer Science', emailid='johnsmith@email.org')\n",
      "John Smith\n"
     ]
    }
   ],
   "source": [
    "student_details = namedtuple(\n",
    "    \"Student\", ['firstname', 'lastname', 'major', 'emailid'])\n",
    "S181001 = student_details(\n",
    "    'John', 'Smith', 'Computer Science', 'johnsmith@email.org')\n",
    "print(S181001)\n",
    "print(S181001.firstname, S181001.lastname)\n"
   ]
  },
  {
   "cell_type": "code",
   "execution_count": 4,
   "metadata": {},
   "outputs": [
    {
     "ename": "TypeError",
     "evalue": "__new__() missing 1 required positional argument: 'emailid'",
     "output_type": "error",
     "traceback": [
      "\u001b[1;31m---------------------------------------------------------------------------\u001b[0m",
      "\u001b[1;31mTypeError\u001b[0m                                 Traceback (most recent call last)",
      "\u001b[1;32m<ipython-input-4-9d364d0a9e0e>\u001b[0m in \u001b[0;36m<module>\u001b[1;34m\u001b[0m\n\u001b[0;32m      1\u001b[0m \u001b[1;31m# this will raise an error as we need to add values for all attributes of the named tuple\u001b[0m\u001b[1;33m\u001b[0m\u001b[1;33m\u001b[0m\u001b[1;33m\u001b[0m\u001b[0m\n\u001b[1;32m----> 2\u001b[1;33m \u001b[0mS181002\u001b[0m \u001b[1;33m=\u001b[0m \u001b[0mstudent_details\u001b[0m\u001b[1;33m(\u001b[0m\u001b[0mlastname\u001b[0m\u001b[1;33m=\u001b[0m\u001b[1;34m'Cage'\u001b[0m\u001b[1;33m,\u001b[0m \u001b[0mfirstname\u001b[0m\u001b[1;33m=\u001b[0m\u001b[1;34m'Nick'\u001b[0m\u001b[1;33m,\u001b[0m \u001b[0mmajor\u001b[0m\u001b[1;33m=\u001b[0m\u001b[1;34m'Acting'\u001b[0m\u001b[1;33m)\u001b[0m\u001b[1;33m\u001b[0m\u001b[1;33m\u001b[0m\u001b[0m\n\u001b[0m",
      "\u001b[1;31mTypeError\u001b[0m: __new__() missing 1 required positional argument: 'emailid'"
     ]
    }
   ],
   "source": [
    "# this will raise an error as we need to add values for all attributes of the named tuple\n",
    "S181002 = student_details(lastname='Cage', firstname='Nick', major='Acting')\n"
   ]
  },
  {
   "cell_type": "markdown",
   "metadata": {},
   "source": []
  }
 ],
 "metadata": {
  "interpreter": {
   "hash": "66fed39441b8c32cb020d747b86ff5961711bba3c6e96157e70abc62bcbf3db6"
  },
  "kernelspec": {
   "display_name": "Python 3.9.1 64-bit ('venv': venv)",
   "name": "python3"
  },
  "language_info": {
   "codemirror_mode": {
    "name": "ipython",
    "version": 3
   },
   "file_extension": ".py",
   "mimetype": "text/x-python",
   "name": "python",
   "nbconvert_exporter": "python",
   "pygments_lexer": "ipython3",
   "version": "3.9.1"
  },
  "orig_nbformat": 4
 },
 "nbformat": 4,
 "nbformat_minor": 2
}

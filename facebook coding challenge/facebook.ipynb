{
 "cells": [
  {
   "cell_type": "code",
   "execution_count": 1,
   "metadata": {},
   "outputs": [
    {
     "name": "stdout",
     "output_type": "stream",
     "text": [
      "<button>It's great blue, also short, even so long, and slow </button>\n",
      "<button>It's great slow </button>\n",
      "<button>It's great short, and blue </button>\n",
      "<span>It's great slow </span>\n",
      "<span>It's great short </span>\n",
      "<div>It's great short </div>\n",
      "<span>It's great green, furthermore long, also slow, and short </span>\n",
      "<span>It's great long, but blue, in addition to quick </span>\n",
      "<button>It's great short, also slow, even so green, and long </button>\n",
      "<span>It's great slow </span>\n",
      "<div>It's great long </div>\n",
      "<div>It's great long, but quick, in addition to short, and slow </div>\n",
      "<span>It's great long, but quick, in addition to blue </span>\n",
      "<div>It's great green, but slow, nevertheless short </div>\n",
      "<button>It's great short, and blue </button>\n",
      "<button>It's great blue </button>\n",
      "<button>It's great quick, but green, even so short </button>\n",
      "<button>It's great green </button>\n",
      "<button>It's great short </button>\n",
      "<button>It's great slow, but green, even so quick </button>\n",
      "<div>It's great blue, but long, nevertheless green </div>\n",
      "<span>It's great short </span>\n",
      "<button>It's great blue </button>\n",
      "<div>It's great short, but quick, nevertheless blue </div>\n",
      "<div>It's great long, but slow, in addition to green, and blue </div>\n",
      "<div>It's great slow, but quick, in addition to short, and green </div>\n",
      "<div>It's great </div>\n",
      "<button>It's great quick, also short, even so green, and slow </button>\n",
      "<button>It's great slow, and quick </button>\n",
      "<button>It's great blue </button>\n",
      "<span>It's great short, furthermore slow, also quick, and blue </span>\n",
      "<span>It's great long </span>\n",
      "<div>It's great </div>\n",
      "<button>It's great blue, also long, even so slow, and quick </button>\n",
      "<button>It's great slow </button>\n",
      "<div>It's great </div>\n",
      "<button>It's great slow </button>\n",
      "<div>It's great </div>\n",
      "<div>It's great slow </div>\n",
      "<span>It's great green, furthermore slow, also quick, and long </span>\n",
      "<div>It's great long, but quick, in addition to slow, and green </div>\n",
      "<span>It's great quick, furthermore blue, also slow, and short </span>\n",
      "<div>It's great green, but blue, in addition to slow, and short </div>\n",
      "<div>It's great green, but quick, in addition to long, and slow </div>\n",
      "<button>It's great short, also slow, even so quick, and long </button>\n",
      "<div>It's great long </div>\n",
      "<div>It's great green, but long, in addition to short, and blue </div>\n",
      "<button>It's great short, and quick </button>\n",
      "<button>It's great long, but short, even so green </button>\n",
      "<div>It's great green, but blue, nevertheless quick </div>\n",
      "<span>It's great long, furthermore slow, also short, and quick </span>\n"
     ]
    }
   ],
   "source": [
    "input_file = \"reenact_easy_input.txt\"\n",
    "output_file = \"reenact_easy_output.txt\"\n",
    "with open(input_file, \"r\") as in_file, open(output_file,\"w\") as out_file:\n",
    "    input_lines = in_file.read().splitlines()\n",
    "    # from pprint import pprint\n",
    "    # pprint(comp_def)\n",
    "    components = {}\n",
    "    curr_comp = None\n",
    "    comp_curating = True\n",
    "    for line in input_lines:\n",
    "        if line == \"\":\n",
    "            comp_curating = False\n",
    "            continue\n",
    "        if comp_curating:\n",
    "            if curr_comp == None:\n",
    "                curr_comp = line\n",
    "            elif line[0] == \"=\":\n",
    "               components[curr_comp] = line[3:]\n",
    "               curr_comp = None\n",
    "        else:\n",
    "            inst_commands = line.split()\n",
    "            comp = inst_commands[0][1:]\n",
    "            vars = {}\n",
    "            for var in inst_commands[1:-1]:\n",
    "                var_name, value = var.split(\"=\")\n",
    "                vars[var_name] = value[1:-1]\n",
    "            print(components[comp].format(**vars))\n",
    "            out_file.write(components[comp].format(**vars)+\"\\n\")\n"
   ]
  },
  {
   "cell_type": "code",
   "execution_count": 18,
   "metadata": {},
   "outputs": [
    {
     "name": "stdout",
     "output_type": "stream",
     "text": [
      "{'Button': '<button>{text}</button>', 'Label': '<span>{text}</span>', 'MyComponent': '<div> Click this {input1} <Button text={input2}/> </div>'}\n"
     ]
    }
   ],
   "source": [
    "input_file = \"reenact_medium_small_input.txt\"\n",
    "output_file = \"reenact_medium_small_output.txt\"\n",
    "\n",
    "\n",
    "from collections import defaultdict\n",
    "with open(input_file, \"r\") as in_file, open(output_file, \"w\") as out_file:\n",
    "    input_lines = in_file.read().splitlines()\n",
    "    # from pprint import pprint\n",
    "    # pprint(comp_def)\n",
    "    components = {}\n",
    "    comp_vars = defaultdict(list)\n",
    "    curr_comp = None\n",
    "    comp_curating = True\n",
    "    def out_string(comp_inst):\n",
    "        inst_commands = comp_inst.split()\n",
    "        comp = inst_commands[0][1:]\n",
    "        vars = {}\n",
    "        for var in inst_commands[1:-1]:\n",
    "            var_name, val = var.split(\"=\")\n",
    "            raw_val = out_string(value) if val[0] == \"<\" else value[1:-1]\n",
    "            vars[var_name] = raw_val\n",
    "        return comp, vars\n",
    "    def expand_string(jsx):\n",
    "        i = 0\n",
    "        res = []\n",
    "        while i <= len(jsx):\n",
    "            if jsx[i] == \"<\"\n",
    "    for line in input_lines:\n",
    "        if line == \"\":\n",
    "            comp_curating = False\n",
    "            print(components)\n",
    "            continue\n",
    "        if comp_curating:\n",
    "            if curr_comp == None:\n",
    "                curr_comp = line\n",
    "            elif line[0] == \"=\":\n",
    "                open_angle_split = line[3:].split(\"<\")\n",
    "                for text in open_angle_split:\n",
    "                    if text and text[0] in components:\n",
    "\n",
    "                components[curr_comp] = line[3:]\n",
    "                curr_comp = None\n",
    "            else:\n",
    "                comp_vars[curr_comp].append(line)\n",
    "        else:\n",
    "            comp, vars = out_string(line)\n",
    "            # print(comp,vars)\n",
    "            # print(components[comp].format(**vars))\n",
    "            out_file.write(components[comp].format(**vars) + \"\\n\")\n"
   ]
  },
  {
   "cell_type": "code",
   "execution_count": null,
   "metadata": {},
   "outputs": [],
   "source": []
  },
  {
   "cell_type": "code",
   "execution_count": 19,
   "metadata": {},
   "outputs": [
    {
     "data": {
      "text/plain": [
       "['', 'div> Click this {input1} ', 'Button text={input2}/> ', '/div>']"
      ]
     },
     "execution_count": 19,
     "metadata": {},
     "output_type": "execute_result"
    }
   ],
   "source": [
    "\"<div> Click this {input1} <Button text={input2}/> </div>\".split(\"<\")\n"
   ]
  },
  {
   "cell_type": "code",
   "execution_count": null,
   "metadata": {},
   "outputs": [
    {
     "ename": "Error",
     "evalue": "Kernel is dead",
     "output_type": "error",
     "traceback": [
      "Error: Kernel is dead",
      "at g._sendKernelShellControl (c:\\Users\\tofun\\.vscode\\extensions\\ms-toolsai.jupyter-2021.8.2041215044\\out\\client\\extension.js:52:1006195)",
      "at g.sendShellMessage (c:\\Users\\tofun\\.vscode\\extensions\\ms-toolsai.jupyter-2021.8.2041215044\\out\\client\\extension.js:52:1005964)",
      "at g.requestExecute (c:\\Users\\tofun\\.vscode\\extensions\\ms-toolsai.jupyter-2021.8.2041215044\\out\\client\\extension.js:52:1008506)",
      "at d.requestExecute (c:\\Users\\tofun\\.vscode\\extensions\\ms-toolsai.jupyter-2021.8.2041215044\\out\\client\\extension.js:37:325680)",
      "at w.requestExecute (c:\\Users\\tofun\\.vscode\\extensions\\ms-toolsai.jupyter-2021.8.2041215044\\out\\client\\extension.js:32:18027)",
      "at w.executeCodeCell (c:\\Users\\tofun\\.vscode\\extensions\\ms-toolsai.jupyter-2021.8.2041215044\\out\\client\\extension.js:52:301076)",
      "at w.execute (c:\\Users\\tofun\\.vscode\\extensions\\ms-toolsai.jupyter-2021.8.2041215044\\out\\client\\extension.js:52:300703)",
      "at w.start (c:\\Users\\tofun\\.vscode\\extensions\\ms-toolsai.jupyter-2021.8.2041215044\\out\\client\\extension.js:52:296367)",
      "at processTicksAndRejections (internal/process/task_queues.js:93:5)",
      "at async t.CellExecutionQueue.executeQueuedCells (c:\\Users\\tofun\\.vscode\\extensions\\ms-toolsai.jupyter-2021.8.2041215044\\out\\client\\extension.js:52:311160)",
      "at async t.CellExecutionQueue.start (c:\\Users\\tofun\\.vscode\\extensions\\ms-toolsai.jupyter-2021.8.2041215044\\out\\client\\extension.js:52:310700)"
     ]
    }
   ],
   "source": [
    "input_file = \"keymaster.txt\"\n",
    "output_file = \"km_output.txt\"\n",
    "with open(input_file, \"r\") as in_file, open(output_file, \"w\") as out_file:\n",
    "    map = in_file.read().splitlines()\n",
    "    print(map)\n",
    "    print(\"fbjedfb\")\n",
    "\n",
    "    def is_possible(i,j,map,hasToken):\n",
    "        res = False\n",
    "        if map[i][j] == \"G\":\n",
    "            return True\n",
    "        hasToken = True if map[i][j] == \"T\" else hasToken\n",
    "        map[i][j] == \"-\"\n",
    "        if i - 1 >= 0:\n",
    "            if map[i-1][j] == \".\" or map[i-1][j] == \"T\":\n",
    "                res = res or is_possible(i-1,j,map,hasToken)\n",
    "            elif map[i - 1][j] == \"D\" and hasToken:\n",
    "                res = res or is_possible(i - 1, j,map,False)\n",
    "        if i + 1 < len(map):\n",
    "            if map[i + 1][j] == \".\" or map[i + 1][j] == \"T\":\n",
    "                res = res or is_possible(i + 1, j,map, hasToken)\n",
    "            elif map[i + 1][j] == \"D\" and hasToken:\n",
    "                res = res or is_possible(i + 1, j,map, False)\n",
    "        if j + 1 < len(map[0]):\n",
    "            if map[i + 1][j] == \".\" or map[i][j+1] == \"T\":\n",
    "                res = res or is_possible(i, j+1, map, hasToken)\n",
    "            elif map[i][j+1] == \"D\" and hasToken:\n",
    "                res = res or is_possible(i, j+1, map, False)\n",
    "        if j - 1 >= 0:\n",
    "            if map[i][j-1] == \".\" or map[i][j - 1] == \"T\":\n",
    "                res = res or is_possible(i, j - 1, map, hasToken)\n",
    "            elif map[i][j-1] == \"D\" and hasToken:\n",
    "                res = res or is_possible(i, j - 1, map, False)\n",
    "        return res\n",
    "\n",
    "    for i in range(len(map)):\n",
    "        for j in range(len(map[0])):\n",
    "            print()\n",
    "            if map[i][j] == \"S\":\n",
    "                print(\"P\" if is_possible(i, j, map, False) else \"I\")\n"
   ]
  },
  {
   "cell_type": "code",
   "execution_count": null,
   "metadata": {},
   "outputs": [
    {
     "ename": "Error",
     "evalue": "Session cannot generate requests",
     "output_type": "error",
     "traceback": [
      "Error: Session cannot generate requests",
      "at w.executeCodeCell (c:\\Users\\tofun\\.vscode\\extensions\\ms-toolsai.jupyter-2021.8.2041215044\\out\\client\\extension.js:52:301310)",
      "at w.execute (c:\\Users\\tofun\\.vscode\\extensions\\ms-toolsai.jupyter-2021.8.2041215044\\out\\client\\extension.js:52:300703)",
      "at w.start (c:\\Users\\tofun\\.vscode\\extensions\\ms-toolsai.jupyter-2021.8.2041215044\\out\\client\\extension.js:52:296367)",
      "at processTicksAndRejections (internal/process/task_queues.js:93:5)",
      "at async t.CellExecutionQueue.executeQueuedCells (c:\\Users\\tofun\\.vscode\\extensions\\ms-toolsai.jupyter-2021.8.2041215044\\out\\client\\extension.js:52:311160)",
      "at async t.CellExecutionQueue.start (c:\\Users\\tofun\\.vscode\\extensions\\ms-toolsai.jupyter-2021.8.2041215044\\out\\client\\extension.js:52:310700)"
     ]
    }
   ],
   "source": [
    "input_file = \"keymaster.txt\"\n",
    "output_file = \"km_output.txt\"\n",
    "with open(input_file, \"r\") as in_file, open(output_file, \"w\") as out_file:\n",
    "    map_lines = in_file.read().splitlines()\n",
    "    start = 0\n",
    "    def is_possible(i, j, map, hasToken):\n",
    "        res = False\n",
    "        if map[i][j] == \"G\":\n",
    "            return True\n",
    "        hasToken = True if map[i][j] == \"T\" else hasToken\n",
    "        map[i][j] == \"-\"\n",
    "        if i - 1 >= 0:\n",
    "            if map[i - 1][j] == \".\" or map[i - 1][j] == \"T\":\n",
    "                res = res or is_possible(i - 1, j, map, hasToken)\n",
    "            elif map[i - 1][j] == \"D\" and hasToken:\n",
    "                res = res or is_possible(i - 1, j, map, False)\n",
    "        if i + 1 < len(map):\n",
    "            if map[i + 1][j] == \".\" or map[i + 1][j] == \"T\":\n",
    "                res = res or is_possible(i + 1, j, map, hasToken)\n",
    "            elif map[i + 1][j] == \"D\" and hasToken:\n",
    "                res = res or is_possible(i + 1, j, map, False)\n",
    "        if j + 1 < len(map[0]):\n",
    "            if map[i + 1][j] == \".\" or map[i][j + 1] == \"T\":\n",
    "                res = res or is_possible(i, j + 1, map, hasToken)\n",
    "            elif map[i][j + 1] == \"D\" and hasToken:\n",
    "                res = res or is_possible(i, j + 1, map, False)\n",
    "        if j - 1 >= 0:\n",
    "            if map[i][j - 1] == \".\" or map[i][j - 1] == \"T\":\n",
    "                res = res or is_possible(i, j - 1, map, hasToken)\n",
    "            elif map[i][j - 1] == \"D\" and hasToken:\n",
    "                res = res or is_possible(i, j - 1, map, False)\n",
    "        return res\n",
    "    print(map_lines)\n",
    "    for i in range(len(map_lines)):\n",
    "        if map_lines[i] == \"\":\n",
    "            map = map_lines[start:i]\n",
    "            for i in range(len(map)):\n",
    "                for j in range(len(map[0])):\n",
    "                    print(map[i][j])\n",
    "                    if map[i][j] == \"S\":\n",
    "                        print(\"P\" if is_possible(i, j, map, False) else \"I\")\n",
    "            start == i + 1\n"
   ]
  }
 ],
 "metadata": {
  "interpreter": {
   "hash": "66fed39441b8c32cb020d747b86ff5961711bba3c6e96157e70abc62bcbf3db6"
  },
  "kernelspec": {
   "display_name": "Python 3.9.1 64-bit ('venv': venv)",
   "name": "python3"
  },
  "language_info": {
   "codemirror_mode": {
    "name": "ipython",
    "version": 3
   },
   "file_extension": ".py",
   "mimetype": "text/x-python",
   "name": "python",
   "nbconvert_exporter": "python",
   "pygments_lexer": "ipython3",
   "version": "3.9.1"
  },
  "orig_nbformat": 4
 },
 "nbformat": 4,
 "nbformat_minor": 2
}

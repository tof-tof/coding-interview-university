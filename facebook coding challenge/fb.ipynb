{
 "cells": [
  {
   "cell_type": "code",
   "execution_count": null,
   "metadata": {},
   "outputs": [
    {
     "ename": "Error",
     "evalue": "Session cannot generate requests",
     "output_type": "error",
     "traceback": [
      "Error: Session cannot generate requests",
      "at w.executeCodeCell (c:\\Users\\tofun\\.vscode\\extensions\\ms-toolsai.jupyter-2021.8.2041215044\\out\\client\\extension.js:52:301310)",
      "at w.execute (c:\\Users\\tofun\\.vscode\\extensions\\ms-toolsai.jupyter-2021.8.2041215044\\out\\client\\extension.js:52:300703)",
      "at w.start (c:\\Users\\tofun\\.vscode\\extensions\\ms-toolsai.jupyter-2021.8.2041215044\\out\\client\\extension.js:52:296367)",
      "at processTicksAndRejections (internal/process/task_queues.js:93:5)",
      "at async t.CellExecutionQueue.executeQueuedCells (c:\\Users\\tofun\\.vscode\\extensions\\ms-toolsai.jupyter-2021.8.2041215044\\out\\client\\extension.js:52:311160)",
      "at async t.CellExecutionQueue.start (c:\\Users\\tofun\\.vscode\\extensions\\ms-toolsai.jupyter-2021.8.2041215044\\out\\client\\extension.js:52:310700)"
     ]
    }
   ],
   "source": [
    "input_file = \"keymaster.txt\"\n",
    "output_file = \"km_output.txt\"\n",
    "with open(input_file, \"r\") as in_file, open(output_file, \"w\") as out_file:\n",
    "    map_lines = in_file.read().splitlines()\n",
    "    start = 0\n",
    "\n",
    "    def is_possible(i, j, map, hasToken):\n",
    "        res = False\n",
    "        if map[i][j] == \"G\":\n",
    "            return True\n",
    "        hasToken = True if map[i][j] == \"T\" else hasToken\n",
    "        map[i][j] == \"-\"\n",
    "        if i - 1 >= 0:\n",
    "            if map[i - 1][j] == \".\" or map[i - 1][j] == \"T\":\n",
    "                res = res or is_possible(i - 1, j, map, hasToken)\n",
    "            elif map[i - 1][j] == \"D\" and hasToken:\n",
    "                res = res or is_possible(i - 1, j, map, False)\n",
    "        if i + 1 < len(map):\n",
    "            if map[i + 1][j] == \".\" or map[i + 1][j] == \"T\":\n",
    "                res = res or is_possible(i + 1, j, map, hasToken)\n",
    "            elif map[i + 1][j] == \"D\" and hasToken:\n",
    "                res = res or is_possible(i + 1, j, map, False)\n",
    "        if j + 1 < len(map[0]):\n",
    "            if map[i + 1][j] == \".\" or map[i][j + 1] == \"T\":\n",
    "                res = res or is_possible(i, j + 1, map, hasToken)\n",
    "            elif map[i][j + 1] == \"D\" and hasToken:\n",
    "                res = res or is_possible(i, j + 1, map, False)\n",
    "        if j - 1 >= 0:\n",
    "            if map[i][j - 1] == \".\" or map[i][j - 1] == \"T\":\n",
    "                res = res or is_possible(i, j - 1, map, hasToken)\n",
    "            elif map[i][j - 1] == \"D\" and hasToken:\n",
    "                res = res or is_possible(i, j - 1, map, False)\n",
    "        return res\n",
    "\n",
    "    for i in range(len(map_lines)):\n",
    "        if map_lines[i] == []:\n",
    "            map = map_lines[start:i]\n",
    "            for i in range(len(map)):\n",
    "                for j in range(len(map[0])):\n",
    "                    if map[i][j] == \"S\":\n",
    "                        print(\"P\" if is_possible(i, j, map, False) else \"I\")\n",
    "            start == i + 1\n"
   ]
  }
 ],
 "metadata": {
  "interpreter": {
   "hash": "66fed39441b8c32cb020d747b86ff5961711bba3c6e96157e70abc62bcbf3db6"
  },
  "kernelspec": {
   "display_name": "Python 3.9.1 64-bit ('venv': venv)",
   "name": "python3"
  },
  "language_info": {
   "codemirror_mode": {
    "name": "ipython",
    "version": 3
   },
   "file_extension": ".py",
   "mimetype": "text/x-python",
   "name": "python",
   "nbconvert_exporter": "python",
   "pygments_lexer": "ipython3",
   "version": "3.9.1"
  },
  "orig_nbformat": 4
 },
 "nbformat": 4,
 "nbformat_minor": 2
}

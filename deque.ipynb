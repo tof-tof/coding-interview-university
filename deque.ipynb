{
 "cells": [
  {
   "cell_type": "markdown",
   "source": [
    "# Double-Ended queue: Deque\r\n",
    "\r\n",
    "this is the common general purpose queue, but there are some special queues built for purpose in the [queue](https://docs.python.org/3/library/queue.html) package\r\n",
    "\r\n",
    "## Implementation\r\n",
    "* doubly-linked lists\r\n",
    "    - great for insertion and deletion at the ends, O(1)\r\n",
    "    - poor O(n) performance for random access"
   ],
   "metadata": {}
  },
  {
   "cell_type": "code",
   "execution_count": 1,
   "source": [
    "from collections import deque"
   ],
   "outputs": [],
   "metadata": {}
  },
  {
   "cell_type": "code",
   "execution_count": 4,
   "source": [
    "add_right_q = deque('a')\r\n",
    "add_right_q.append('s')\r\n",
    "add_right_q"
   ],
   "outputs": [
    {
     "output_type": "execute_result",
     "data": {
      "text/plain": [
       "deque(['a', 's'])"
      ]
     },
     "metadata": {},
     "execution_count": 4
    }
   ],
   "metadata": {}
  },
  {
   "cell_type": "code",
   "execution_count": 8,
   "source": [
    "pop_right_q = deque('asd')\r\n",
    "pop_right_q.pop()"
   ],
   "outputs": [
    {
     "output_type": "execute_result",
     "data": {
      "text/plain": [
       "'d'"
      ]
     },
     "metadata": {},
     "execution_count": 8
    }
   ],
   "metadata": {}
  },
  {
   "cell_type": "code",
   "execution_count": 13,
   "source": [
    "pop_empty = deque()\r\n",
    "pop_empty.pop()"
   ],
   "outputs": [
    {
     "output_type": "error",
     "ename": "IndexError",
     "evalue": "pop from an empty deque",
     "traceback": [
      "\u001b[1;31m---------------------------------------------------------------------------\u001b[0m",
      "\u001b[1;31mIndexError\u001b[0m                                Traceback (most recent call last)",
      "\u001b[1;32m<ipython-input-13-3a8893dd00d1>\u001b[0m in \u001b[0;36m<module>\u001b[1;34m\u001b[0m\n\u001b[0;32m      1\u001b[0m \u001b[0mpop_empty\u001b[0m \u001b[1;33m=\u001b[0m \u001b[0mdeque\u001b[0m\u001b[1;33m(\u001b[0m\u001b[1;33m)\u001b[0m\u001b[1;33m\u001b[0m\u001b[1;33m\u001b[0m\u001b[0m\n\u001b[1;32m----> 2\u001b[1;33m \u001b[0mpop_empty\u001b[0m\u001b[1;33m.\u001b[0m\u001b[0mpop\u001b[0m\u001b[1;33m(\u001b[0m\u001b[1;33m)\u001b[0m\u001b[1;33m\u001b[0m\u001b[1;33m\u001b[0m\u001b[0m\n\u001b[0m",
      "\u001b[1;31mIndexError\u001b[0m: pop from an empty deque"
     ]
    }
   ],
   "metadata": {}
  },
  {
   "cell_type": "code",
   "execution_count": 10,
   "source": [
    "add_left_q = deque('qw')\r\n",
    "add_left_q.appendleft('e')\r\n",
    "add_left_q"
   ],
   "outputs": [
    {
     "output_type": "execute_result",
     "data": {
      "text/plain": [
       "deque(['e', 'q', 'w'])"
      ]
     },
     "metadata": {},
     "execution_count": 10
    }
   ],
   "metadata": {}
  },
  {
   "cell_type": "code",
   "execution_count": 12,
   "source": [
    "pop_left_q = deque('asd')\r\n",
    "pop_left_q.popleft()"
   ],
   "outputs": [
    {
     "output_type": "execute_result",
     "data": {
      "text/plain": [
       "'a'"
      ]
     },
     "metadata": {},
     "execution_count": 12
    }
   ],
   "metadata": {}
  },
  {
   "cell_type": "markdown",
   "source": [
    "## other functions\r\n",
    "deques share many similar functions as lists, such as\r\n",
    "* `insert(index, item)`\r\n",
    "* `index(item, [start,[stop]])`\r\n",
    "* `extend(iterable)` and left hand counterpart `extendleft(iterable)`\r\n",
    "* `remove(item)`\r\n",
    "* `reverse()`\r\n",
    "* (`in`) membership\r\n",
    "* `clear()`"
   ],
   "metadata": {}
  },
  {
   "cell_type": "markdown",
   "source": [
    "lastly and rather differently, there's `rotate`, which rotates the deque n steps to the right"
   ],
   "metadata": {}
  },
  {
   "cell_type": "code",
   "execution_count": 15,
   "source": [
    "rot_q = deque('iop')\r\n",
    "rot_q.rotate()\r\n",
    "rot_q"
   ],
   "outputs": [
    {
     "output_type": "execute_result",
     "data": {
      "text/plain": [
       "deque(['p', 'i', 'o'])"
      ]
     },
     "metadata": {},
     "execution_count": 15
    }
   ],
   "metadata": {}
  },
  {
   "cell_type": "code",
   "execution_count": 18,
   "source": [
    "rot_num_q = deque('ghjkl')\r\n",
    "rot_num_q.rotate(3)\r\n",
    "rot_num_q"
   ],
   "outputs": [
    {
     "output_type": "execute_result",
     "data": {
      "text/plain": [
       "deque(['j', 'k', 'l', 'g', 'h'])"
      ]
     },
     "metadata": {},
     "execution_count": 18
    }
   ],
   "metadata": {}
  },
  {
   "cell_type": "code",
   "execution_count": 20,
   "source": [
    "neg_rot_q = deque('vcxbn')\r\n",
    "neg_rot_q.rotate(-2)\r\n",
    "neg_rot_q"
   ],
   "outputs": [
    {
     "output_type": "execute_result",
     "data": {
      "text/plain": [
       "deque(['x', 'b', 'n', 'v', 'c'])"
      ]
     },
     "metadata": {},
     "execution_count": 20
    }
   ],
   "metadata": {}
  },
  {
   "cell_type": "markdown",
   "source": [
    "You can fix max length at initialization time with the second optional parameter, when you add things over the length, items start to be pushed out the deque"
   ],
   "metadata": {}
  },
  {
   "cell_type": "code",
   "execution_count": 24,
   "source": [
    "over_maxlen = deque('hjkl',3)\r\n",
    "over_maxlen"
   ],
   "outputs": [
    {
     "output_type": "execute_result",
     "data": {
      "text/plain": [
       "deque(['j', 'k', 'l'])"
      ]
     },
     "metadata": {},
     "execution_count": 24
    }
   ],
   "metadata": {}
  },
  {
   "cell_type": "code",
   "execution_count": 28,
   "source": [
    "add_over_maxlen = deque('uio',3)\r\n",
    "add_over_maxlen.appendleft('p')\r\n",
    "add_over_maxlen"
   ],
   "outputs": [
    {
     "output_type": "execute_result",
     "data": {
      "text/plain": [
       "deque(['p', 'u', 'i'])"
      ]
     },
     "metadata": {},
     "execution_count": 28
    }
   ],
   "metadata": {}
  },
  {
   "cell_type": "code",
   "execution_count": 29,
   "source": [
    "add_over_maxlen.maxlen"
   ],
   "outputs": [
    {
     "output_type": "execute_result",
     "data": {
      "text/plain": [
       "3"
      ]
     },
     "metadata": {},
     "execution_count": 29
    }
   ],
   "metadata": {}
  },
  {
   "cell_type": "code",
   "execution_count": null,
   "source": [],
   "outputs": [],
   "metadata": {}
  }
 ],
 "metadata": {
  "orig_nbformat": 4,
  "language_info": {
   "name": "python",
   "version": "3.7.3",
   "mimetype": "text/x-python",
   "codemirror_mode": {
    "name": "ipython",
    "version": 3
   },
   "pygments_lexer": "ipython3",
   "nbconvert_exporter": "python",
   "file_extension": ".py"
  },
  "kernelspec": {
   "name": "python3",
   "display_name": "Python 3.7.3 64-bit ('base': conda)"
  },
  "interpreter": {
   "hash": "1f6f5b05f6b17a715395ee32c655d2a555469c9b738ef92421f45abe63f60879"
  }
 },
 "nbformat": 4,
 "nbformat_minor": 2
}
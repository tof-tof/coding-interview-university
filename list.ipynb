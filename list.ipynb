{
    "cells": [
        {
            "cell_type": "markdown",
            "metadata": {},
            "source": [
                "# Lists\n",
                "* accessed by offset [O(1) operation]\n",
                "    > `myList[0]`\n",
                "* support nesting ( you can make lists of lists)\n",
                "\n",
                "## Fact File\n",
                "**mutable**   : yes  \n",
                "**ordered**   : yes  \n",
                "**multi-type**: yes  \n",
                "**length**    : variable  \n",
                "\n",
                "# Implementation\n",
                "* arrays of pointers to objects\n",
                "* lists are arrays inside the interpreter ***NOT*** linked structures\n",
                "    - values are assigned to and retrieved from specific, known memory locations\n",
                "    - dynamically resizing C arrays\n",
                "\n",
                "# Aside: Arrays\n",
                "python has an typed array module provided space-efficient storage of basic C-style datatypes (translating to `int`, `float` and unicode characters) \n",
                "they have similar method to lists\n",
                "> `import array`  \n",
                "> `a = array.array('f', (1.0,1.2))`      \n",
                "\n",
                "<br>\n",
                "\n",
                "# Operations\n",
                "## Built-in operators on lists\n",
                "most functions in this section that return an object actually return a completely new object\n",
                "### Indexing and slicing\n",
                "`myList[start:stop:step]`  \n",
                "\n",
                "all operations involving this form are in-place\n",
                "#### Defaults:  \n",
                "start: 0  \n",
                "stop: the end of the list  \n",
                "step: 1  \n"
            ]
        },
        {
            "cell_type": "code",
            "execution_count": 11,
            "metadata": {},
            "outputs": [
                {
                    "data": {
                        "text/plain": [
                            "'b'"
                        ]
                    },
                    "execution_count": 11,
                    "metadata": {},
                    "output_type": "execute_result"
                }
            ],
            "source": [
                "neg_index = ['a','b','c']\n",
                "neg_index[-2]\n"
            ]
        },
        {
            "cell_type": "code",
            "execution_count": 56,
            "metadata": {},
            "outputs": [
                {
                    "data": {
                        "text/plain": [
                            "['Already']"
                        ]
                    },
                    "execution_count": 56,
                    "metadata": {},
                    "output_type": "execute_result"
                }
            ],
            "source": [
                "# alternative way of deleteing from a list\n",
                "# getting a slice is O(k) operation where k is the size of the slice\n",
                "assign_section = ['Already', 'got', 'one']\n",
                "assign_section[1:] =[]\n",
                "assign_section"
            ]
        },
        {
            "cell_type": "code",
            "execution_count": 16,
            "metadata": {},
            "outputs": [
                {
                    "data": {
                        "text/plain": [
                            "3"
                        ]
                    },
                    "execution_count": 16,
                    "metadata": {},
                    "output_type": "execute_result"
                }
            ],
            "source": [
                "# Length\n",
                "len([1,2,3]) "
            ]
        },
        {
            "cell_type": "code",
            "execution_count": 5,
            "metadata": {},
            "outputs": [
                {
                    "data": {
                        "text/plain": [
                            "[1, 2, 3, 4, 5, 6]"
                        ]
                    },
                    "execution_count": 5,
                    "metadata": {},
                    "output_type": "execute_result"
                }
            ],
            "source": [
                "# Concatenation: O(n)\n",
                "[1, 2, 3 ] + [4,5,6] "
            ]
        },
        {
            "cell_type": "code",
            "execution_count": 11,
            "metadata": {},
            "outputs": [
                {
                    "data": {
                        "text/plain": [
                            "['N', 'N', 'N', 'N']"
                        ]
                    },
                    "execution_count": 11,
                    "metadata": {},
                    "output_type": "execute_result"
                }
            ],
            "source": [
                "#Repetition/Multiplication o(nk) multiple n sized list k times\n",
                "\n",
                "['N'] * 4"
            ]
        },
        {
            "cell_type": "code",
            "execution_count": 1,
            "metadata": {},
            "outputs": [
                {
                    "data": {
                        "text/plain": [
                            "[[5, 0, 0], [5, 0, 0], [5, 0, 0]]"
                        ]
                    },
                    "execution_count": 1,
                    "metadata": {},
                    "output_type": "execute_result"
                }
            ],
            "source": [
                "# DANGER don't use to make multidimensional arrays\n",
                "\n",
                "mult_n = [[0] * 3] * 3\n",
                "mult_n[0][0] = 5\n",
                "mult_n\n"
            ]
        },
        {
            "cell_type": "code",
            "execution_count": 3,
            "metadata": {},
            "outputs": [
                {
                    "data": {
                        "text/plain": [
                            "[5, 0, 0, 0, 0, 0, 0, 0, 0]"
                        ]
                    },
                    "execution_count": 3,
                    "metadata": {},
                    "output_type": "execute_result"
                }
            ],
            "source": [
                "mult = [0]*9\n",
                "mult[0] = 5\n",
                "mult\n"
            ]
        },
        {
            "cell_type": "code",
            "execution_count": 13,
            "metadata": {},
            "outputs": [
                {
                    "data": {
                        "text/plain": [
                            "True"
                        ]
                    },
                    "execution_count": 13,
                    "metadata": {},
                    "output_type": "execute_result"
                }
            ],
            "source": [
                "# Membership: O(n)\n",
                "3 in [1,2,3]"
            ]
        },
        {
            "cell_type": "code",
            "execution_count": 30,
            "metadata": {},
            "outputs": [
                {
                    "data": {
                        "text/plain": [
                            "['aBe', 'ABD', 'abc']"
                        ]
                    },
                    "execution_count": 30,
                    "metadata": {},
                    "output_type": "execute_result"
                }
            ],
            "source": [
                "sorted_list = ['abc', 'ABD', 'aBe']\n",
                "sorted(sorted_list, key=str.lower, reverse=True)\n"
            ]
        },
        {
            "cell_type": "code",
            "execution_count": 1,
            "metadata": {},
            "outputs": [
                {
                    "data": {
                        "text/plain": [
                            "[]"
                        ]
                    },
                    "execution_count": 1,
                    "metadata": {},
                    "output_type": "execute_result"
                }
            ],
            "source": [
                "# sum\n",
                "# sum(iterable, start=0)\n",
                "[1,2,3,4,5][5:2]"
            ]
        },
        {
            "cell_type": "code",
            "execution_count": 14,
            "metadata": {},
            "outputs": [
                {
                    "data": {
                        "text/plain": [
                            "[1, 2, 0, 1, 2]"
                        ]
                    },
                    "execution_count": 14,
                    "metadata": {},
                    "output_type": "execute_result"
                }
            ],
            "source": [
                "# map\n",
                "\n",
                "list(map(abs, [-1,-2,0,1,2]))"
            ]
        },
        {
            "cell_type": "code",
            "execution_count": 14,
            "metadata": {},
            "outputs": [
                {
                    "name": "stdout",
                    "output_type": "stream",
                    "text": [
                        "True\n",
                        "True\n",
                        "False\n",
                        "False\n"
                    ]
                }
            ],
            "source": [
                "# all (similarly any())\n",
                "\n",
                "print(all([True,True]))\n",
                "# works for truthy values as well\n",
                "print(all([1,2,3]))\n",
                "print(all([0, 2, 3]))\n",
                "print(all([None, 2, 3]))\n"
            ]
        },
        {
            "cell_type": "markdown",
            "metadata": {},
            "source": [
                "### `del`\n",
                "\n",
                "O(n)"
            ]
        },
        {
            "cell_type": "code",
            "execution_count": 52,
            "metadata": {},
            "outputs": [
                {
                    "data": {
                        "text/plain": [
                            "['eggs', 'ham', 'toast']"
                        ]
                    },
                    "execution_count": 52,
                    "metadata": {},
                    "output_type": "execute_result"
                }
            ],
            "source": [
                "del_one = ['spam', 'eggs', 'ham', 'toast']\n",
                "del del_one[0]\n",
                "del_one\n"
            ]
        },
        {
            "cell_type": "code",
            "execution_count": 53,
            "metadata": {},
            "outputs": [
                {
                    "data": {
                        "text/plain": [
                            "['spam']"
                        ]
                    },
                    "execution_count": 53,
                    "metadata": {},
                    "output_type": "execute_result"
                }
            ],
            "source": [
                "del_section = L = ['spam', 'eggs', 'ham', 'toast']\n",
                "del del_section[1:]\n",
                "del_section"
            ]
        },
        {
            "cell_type": "markdown",
            "metadata": {},
            "source": [
                "## Type-specific methods\n",
                "all of the following methods are in-place (mutates the original list rather than giving you a new one)"
            ]
        },
        {
            "cell_type": "code",
            "execution_count": 18,
            "metadata": {},
            "outputs": [
                {
                    "data": {
                        "text/plain": [
                            "[1, 2, 3, 4]"
                        ]
                    },
                    "execution_count": 18,
                    "metadata": {},
                    "output_type": "execute_result"
                }
            ],
            "source": [
                "# append(item) : amortised O(1)\n",
                "app_list = [1,2,3]\n",
                "app_list.append(4)\n",
                "app_list\n"
            ]
        },
        {
            "cell_type": "code",
            "execution_count": 43,
            "metadata": {},
            "outputs": [
                {
                    "data": {
                        "text/plain": [
                            "['spam', 'toast', 'eggs', 'ham']"
                        ]
                    },
                    "execution_count": 43,
                    "metadata": {},
                    "output_type": "execute_result"
                }
            ],
            "source": [
                "# insert(index, item) : O(n)\n",
                "ins_list = ['spam', 'eggs', 'ham']\n",
                "ins_list.insert(1, 'toast')\n",
                "ins_list"
            ]
        },
        {
            "cell_type": "code",
            "execution_count": 19,
            "metadata": {},
            "outputs": [
                {
                    "data": {
                        "text/plain": [
                            "[2, 3, 4, 1, 5, 6, 7, 8, 9, 10]"
                        ]
                    },
                    "execution_count": 19,
                    "metadata": {},
                    "output_type": "execute_result"
                }
            ],
            "source": [
                "# extend(list) : O(k) k = length of list to be added (argument of extend() )\n",
                "ext_list = [2, 3, 4, 1, 5, 6, 7]\n",
                "ext_list.extend([8, 9, 10])\n",
                "ext_list"
            ]
        },
        {
            "cell_type": "code",
            "execution_count": 6,
            "metadata": {},
            "outputs": [
                {
                    "name": "stdout",
                    "output_type": "stream",
                    "text": [
                        "1\n",
                        "3\n"
                    ]
                }
            ],
            "source": [
                "# index(item, start=0)\n",
                "index_list = ['spam', 'eggs', 'ham', 'eggs']\n",
                "print(index_list.index('eggs'))# finds first occurrence\n",
                "print(index_list.index('eggs',2))"
            ]
        },
        {
            "cell_type": "code",
            "execution_count": 2,
            "metadata": {},
            "outputs": [
                {
                    "ename": "ValueError",
                    "evalue": "'cheese' is not in list",
                    "output_type": "error",
                    "traceback": [
                        "\u001b[1;31m---------------------------------------------------------------------------\u001b[0m",
                        "\u001b[1;31mValueError\u001b[0m                                Traceback (most recent call last)",
                        "\u001b[1;32m<ipython-input-2-a0b986579c41>\u001b[0m in \u001b[0;36m<module>\u001b[1;34m\u001b[0m\n\u001b[0;32m      1\u001b[0m \u001b[1;31m# index(item)\u001b[0m\u001b[1;33m\u001b[0m\u001b[1;33m\u001b[0m\u001b[1;33m\u001b[0m\u001b[0m\n\u001b[0;32m      2\u001b[0m \u001b[0mno_occurrence\u001b[0m \u001b[1;33m=\u001b[0m \u001b[1;33m[\u001b[0m\u001b[1;34m'spam'\u001b[0m\u001b[1;33m,\u001b[0m \u001b[1;34m'eggs'\u001b[0m\u001b[1;33m,\u001b[0m \u001b[1;34m'ham'\u001b[0m\u001b[1;33m,\u001b[0m \u001b[1;34m'eggs'\u001b[0m\u001b[1;33m]\u001b[0m\u001b[1;33m\u001b[0m\u001b[1;33m\u001b[0m\u001b[0m\n\u001b[1;32m----> 3\u001b[1;33m \u001b[0mno_occurrence\u001b[0m\u001b[1;33m.\u001b[0m\u001b[0mindex\u001b[0m\u001b[1;33m(\u001b[0m\u001b[1;34m'cheese'\u001b[0m\u001b[1;33m)\u001b[0m\u001b[1;33m\u001b[0m\u001b[1;33m\u001b[0m\u001b[0m\n\u001b[0m",
                        "\u001b[1;31mValueError\u001b[0m: 'cheese' is not in list"
                    ]
                }
            ],
            "source": [
                "# index(item)\n",
                "no_occurrence = ['spam', 'eggs', 'ham', 'eggs']\n",
                "no_occurrence.index('cheese')\n"
            ]
        },
        {
            "cell_type": "code",
            "execution_count": 3,
            "metadata": {},
            "outputs": [
                {
                    "name": "stdout",
                    "output_type": "stream",
                    "text": [
                        "Help on built-in function index:\n",
                        "\n",
                        "index(value, start=0, stop=9223372036854775807, /) method of builtins.list instance\n",
                        "    Return first index of value.\n",
                        "    \n",
                        "    Raises ValueError if the value is not present.\n",
                        "\n"
                    ]
                }
            ],
            "source": [
                "help(no_occurrence.index)\n"
            ]
        },
        {
            "cell_type": "code",
            "execution_count": 50,
            "metadata": {},
            "outputs": [
                {
                    "data": {
                        "text/plain": [
                            "2"
                        ]
                    },
                    "execution_count": 50,
                    "metadata": {},
                    "output_type": "execute_result"
                }
            ],
            "source": [
                "# count(sub [, start [, end]])\n",
                "count_list = ['spam', 'eggs', 'ham', 'eggs']\n",
                "count_list.count('eggs')\n"
            ]
        },
        {
            "cell_type": "markdown",
            "metadata": {},
            "source": [
                "### pop: \n",
                "- from the end (no params given): O(1)\n",
                "- given a specific index: O(n)  \n",
                "    *When an item is taken from the front of a Python list, all other elements in the list are shifted one position closer to the beginning*  "
            ]
        },
        {
            "cell_type": "code",
            "execution_count": 36,
            "metadata": {},
            "outputs": [
                {
                    "data": {
                        "text/plain": [
                            "5"
                        ]
                    },
                    "execution_count": 36,
                    "metadata": {},
                    "output_type": "execute_result"
                }
            ],
            "source": [
                "pop_list = [1, 2, 3, 4, 5]\n",
                "pop_list.pop()\n"
            ]
        },
        {
            "cell_type": "code",
            "execution_count": 41,
            "metadata": {},
            "outputs": [
                {
                    "data": {
                        "text/plain": [
                            "'toast'"
                        ]
                    },
                    "execution_count": 41,
                    "metadata": {},
                    "output_type": "execute_result"
                }
            ],
            "source": [
                "pop_index = ['spam', 'toast', 'ham']\n",
                "pop_index.pop(1)"
            ]
        },
        {
            "cell_type": "code",
            "execution_count": 47,
            "metadata": {},
            "outputs": [
                {
                    "data": {
                        "text/plain": [
                            "['spam', 'ham', 'eggs']"
                        ]
                    },
                    "execution_count": 47,
                    "metadata": {},
                    "output_type": "execute_result"
                }
            ],
            "source": [
                "# remove(item)\n",
                "rem_list = ['spam', 'eggs', 'ham', 'eggs']\n",
                "rem_list.remove('eggs') # removes first occurrence\n",
                "rem_list"
            ]
        },
        {
            "cell_type": "code",
            "execution_count": 38,
            "metadata": {},
            "outputs": [
                {
                    "data": {
                        "text/plain": [
                            "[4, 3, 2, 1]"
                        ]
                    },
                    "execution_count": 38,
                    "metadata": {},
                    "output_type": "execute_result"
                }
            ],
            "source": [
                "# reverse :\n",
                "rev_list = [1, 2, 3, 4]\n",
                "rev_list.reverse()\n",
                "rev_list"
            ]
        },
        {
            "cell_type": "markdown",
            "metadata": {},
            "source": [
                "### Sort\n",
                "O(n log n)  "
            ]
        },
        {
            "cell_type": "code",
            "execution_count": 22,
            "metadata": {},
            "outputs": [
                {
                    "data": {
                        "text/plain": [
                            "['SPAM!', 'eat', 'more', 'please']"
                        ]
                    },
                    "execution_count": 22,
                    "metadata": {},
                    "output_type": "execute_result"
                }
            ],
            "source": [
                "sort_list = ['eat', 'more', 'SPAM!', 'please'] \n",
                "sort_list.sort()\n",
                "sort_list # note 'S' < 'e'"
            ]
        },
        {
            "cell_type": "code",
            "execution_count": 23,
            "metadata": {},
            "outputs": [
                {
                    "data": {
                        "text/plain": [
                            "['ABD', 'aBe', 'abc']"
                        ]
                    },
                    "execution_count": 23,
                    "metadata": {},
                    "output_type": "execute_result"
                }
            ],
            "source": [
                "mixed_case = ['abc', 'ABD', 'aBe']\n",
                "mixed_case.sort()\n",
                "mixed_case"
            ]
        },
        {
            "cell_type": "code",
            "execution_count": 26,
            "metadata": {},
            "outputs": [
                {
                    "data": {
                        "text/plain": [
                            "['abc', 'aBe', 'ABD']"
                        ]
                    },
                    "execution_count": 26,
                    "metadata": {},
                    "output_type": "execute_result"
                }
            ],
            "source": [
                "rev_sort = ['abc', 'ABD', 'aBe']\n",
                "rev_sort.sort(reverse=True)\n",
                "rev_sort\n",
                "rev_list.sort()"
            ]
        },
        {
            "cell_type": "code",
            "execution_count": 27,
            "metadata": {},
            "outputs": [
                {
                    "data": {
                        "text/plain": [
                            "['abc', 'ABD', 'aBe']"
                        ]
                    },
                    "execution_count": 27,
                    "metadata": {},
                    "output_type": "execute_result"
                }
            ],
            "source": [
                "key_sort = ['abc', 'ABD', 'aBe']\n",
                "key_sort.sort(key=str.lower)\n",
                "key_sort"
            ]
        },
        {
            "cell_type": "markdown",
            "metadata": {},
            "source": [
                "## list unpacking"
            ]
        },
        {
            "cell_type": "code",
            "execution_count": 7,
            "metadata": {},
            "outputs": [
                {
                    "name": "stdout",
                    "output_type": "stream",
                    "text": [
                        "1\n"
                    ]
                }
            ],
            "source": [
                "x, y = [1, 2]\n",
                "print(x)\n"
            ]
        },
        {
            "cell_type": "markdown",
            "metadata": {},
            "source": [
                "## List Comprehensions\n",
                "<pre>just_for = [<i>expression</i> for <i>item</i> in <i>iterable</i> ]</pre>\n",
                "<pre>if_list = [<i>expression</i> for <i>item</i> in <i>iterable</i> if <i>condition</i> ]</pre>\n",
                "<pre>else_list = [ <i>expression</i> if <i>condition</i> else <i>default expresssion</i> for <i>item</i> in <i>iterable</i> ]</pre>"
            ]
        },
        {
            "cell_type": "markdown",
            "metadata": {},
            "source": []
        },
        {
            "cell_type": "code",
            "execution_count": null,
            "metadata": {},
            "outputs": [],
            "source": []
        },
        {
            "cell_type": "code",
            "execution_count": 1,
            "metadata": {},
            "outputs": [
                {
                    "data": {
                        "text/plain": [
                            "[1, 4, 3, 9, 5, 7]"
                        ]
                    },
                    "execution_count": 1,
                    "metadata": {},
                    "output_type": "execute_result"
                }
            ],
            "source": []
        }
    ],
    "metadata": {
        "interpreter": {
            "hash": "1f6f5b05f6b17a715395ee32c655d2a555469c9b738ef92421f45abe63f60879"
        },
        "kernelspec": {
            "display_name": "Python 3.7.3 64-bit ('base': conda)",
            "name": "python3"
        },
        "language_info": {
            "codemirror_mode": {
                "name": "ipython",
                "version": 3
            },
            "file_extension": ".py",
            "mimetype": "text/x-python",
            "name": "python",
            "nbconvert_exporter": "python",
            "pygments_lexer": "ipython3",
            "version": "3.7.3"
        },
        "orig_nbformat": 4
    },
    "nbformat": 4,
    "nbformat_minor": 2
}

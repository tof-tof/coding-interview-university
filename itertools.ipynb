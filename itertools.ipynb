{
 "cells": [
  {
   "cell_type": "code",
   "execution_count": null,
   "source": [],
   "outputs": [],
   "metadata": {}
  },
  {
   "cell_type": "markdown",
   "source": [
    "# Itertools\r\n",
    "\r\n",
    "I felt that itertools needed there own section because they have some much use it making your code simpler  \r\n",
    "Here are some key ones:\r\n",
    "\r\n"
   ],
   "metadata": {}
  },
  {
   "cell_type": "code",
   "execution_count": 3,
   "source": [
    "# product\r\n",
    "\r\n",
    "[[]]*3"
   ],
   "outputs": [
    {
     "output_type": "execute_result",
     "data": {
      "text/plain": [
       "[[], [], []]"
      ]
     },
     "metadata": {},
     "execution_count": 3
    }
   ],
   "metadata": {}
  },
  {
   "cell_type": "code",
   "execution_count": 6,
   "source": [
    "# finding all indexes of an item in a list\r\n",
    "# more_itertools.locate(iterable, pred=bool, window_size=None)\r\n",
    "\r\n",
    "from more_itertools import locate\r\n",
    "list_of_elems = ['Hello', 'Ok', 'is', 'Ok',\r\n",
    "                 'test', 'this', 'is', 'a', 'test', 'Ok']\r\n",
    "# Use more_itertools.locate() to find all indexes of an item 'Ok' in list\r\n",
    "index_pos_list = list(locate(list_of_elems, lambda a: a == 'Ok'))\r\n",
    "index_pos_list\r\n"
   ],
   "outputs": [
    {
     "output_type": "execute_result",
     "data": {
      "text/plain": [
       "['-', '1', '2', '3']"
      ]
     },
     "metadata": {},
     "execution_count": 6
    }
   ],
   "metadata": {}
  },
  {
   "cell_type": "code",
   "execution_count": 7,
   "source": [
    "int(\"-123\")"
   ],
   "outputs": [
    {
     "output_type": "execute_result",
     "data": {
      "text/plain": [
       "-123"
      ]
     },
     "metadata": {},
     "execution_count": 7
    }
   ],
   "metadata": {}
  },
  {
   "cell_type": "code",
   "execution_count": null,
   "source": [],
   "outputs": [],
   "metadata": {}
  }
 ],
 "metadata": {
  "orig_nbformat": 4,
  "language_info": {
   "name": "python",
   "version": "3.7.3",
   "mimetype": "text/x-python",
   "codemirror_mode": {
    "name": "ipython",
    "version": 3
   },
   "pygments_lexer": "ipython3",
   "nbconvert_exporter": "python",
   "file_extension": ".py"
  },
  "kernelspec": {
   "name": "python3",
   "display_name": "Python 3.7.3 64-bit ('base': conda)"
  },
  "interpreter": {
   "hash": "1f6f5b05f6b17a715395ee32c655d2a555469c9b738ef92421f45abe63f60879"
  }
 },
 "nbformat": 4,
 "nbformat_minor": 2
}
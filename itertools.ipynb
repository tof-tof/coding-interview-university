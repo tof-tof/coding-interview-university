{
 "cells": [
  {
   "cell_type": "code",
   "execution_count": 2,
   "source": [
    "import itertools"
   ],
   "outputs": [],
   "metadata": {}
  },
  {
   "cell_type": "markdown",
   "source": [
    "# Itertools\r\n",
    "\r\n",
    "I felt that itertools needed there own section because they have some much use it making your code simpler  \r\n",
    "Here are some key ones:\r\n",
    "\r\n"
   ],
   "metadata": {}
  },
  {
   "cell_type": "code",
   "execution_count": 7,
   "source": [
    "# itertools.product() computes the cartesian product of input iterables\r\n",
    "Set = {1, 2, 3, 5}\r\n",
    "cartesian_product = itertools.product(Set, repeat=2)\r\n",
    "\r\n",
    "for s in cartesian_product:\r\n",
    "  print(s, end=\" \")\r\n"
   ],
   "outputs": [
    {
     "output_type": "stream",
     "name": "stdout",
     "text": [
      "(1, 1) (1, 2) (1, 3) (1, 5) (2, 1) (2, 2) (2, 3) (2, 5) (3, 1) (3, 2) (3, 3) (3, 5) (5, 1) (5, 2) (5, 3) (5, 5) "
     ]
    }
   ],
   "metadata": {}
  },
  {
   "cell_type": "code",
   "execution_count": 6,
   "source": [
    "# finding all indexes of an item in a list\r\n",
    "# more_itertools.locate(iterable, pred=bool, window_size=None)\r\n",
    "\r\n",
    "from more_itertools import locate\r\n",
    "list_of_elems = ['Hello', 'Ok', 'is', 'Ok',\r\n",
    "                 'test', 'this', 'is', 'a', 'test', 'Ok']\r\n",
    "# Use more_itertools.locate() to find all indexes of an item 'Ok' in list\r\n",
    "index_pos_list = list(locate(list_of_elems, lambda a: a == 'Ok'))\r\n",
    "index_pos_list\r\n"
   ],
   "outputs": [
    {
     "output_type": "execute_result",
     "data": {
      "text/plain": [
       "['-', '1', '2', '3']"
      ]
     },
     "metadata": {},
     "execution_count": 6
    }
   ],
   "metadata": {}
  },
  {
   "cell_type": "code",
   "execution_count": 5,
   "source": [
    "# itertools.cycle(iterable) takes in an iterable and goes over it indefinitely​\r\n",
    "vowels = [\"A\", \"E\", \"I\", \"O\", \"U\"]\r\n",
    "\r\n",
    "v = itertools.cycle(vowels)\r\n",
    "for i in range(8):\r\n",
    "  print(next(v), end=' ')"
   ],
   "outputs": [
    {
     "output_type": "stream",
     "name": "stdout",
     "text": [
      "A E I O U A E I "
     ]
    }
   ],
   "metadata": {}
  },
  {
   "cell_type": "code",
   "execution_count": 6,
   "source": [
    "# repeat(val_repeated,num_repeats)\r\n",
    "repeated_nums = list(itertools.repeat(1, 5))\r\n",
    "print(repeated_nums)\r\n"
   ],
   "outputs": [
    {
     "output_type": "stream",
     "name": "stdout",
     "text": [
      "[1, 1, 1, 1, 1]\n"
     ]
    }
   ],
   "metadata": {}
  },
  {
   "cell_type": "code",
   "execution_count": 8,
   "source": [
    "# permutations() generates all possible permutations of an iterable\r\n",
    "alph = [\"a\", \"b\", \"c\"]\r\n",
    "perm_alph = itertools.permutations(alph)\r\n",
    "\r\n",
    "for i in perm_alph:\r\n",
    "  print(i, end=\" \")\r\n"
   ],
   "outputs": [
    {
     "output_type": "stream",
     "name": "stdout",
     "text": [
      "('a', 'b', 'c') ('a', 'c', 'b') ('b', 'a', 'c') ('b', 'c', 'a') ('c', 'a', 'b') ('c', 'b', 'a') "
     ]
    }
   ],
   "metadata": {}
  },
  {
   "cell_type": "code",
   "execution_count": 9,
   "source": [
    "# can give argument to how many vallues of the iterable it should use in it's perms\r\n",
    "alph = [\"a\", \"b\", \"c\", \"d\"]\r\n",
    "perm_alph_2 = itertools.permutations(alph,2)\r\n",
    "for i in perm_alph_2:\r\n",
    "  print(i, end=\" \")\r\n"
   ],
   "outputs": [
    {
     "output_type": "stream",
     "name": "stdout",
     "text": [
      "('a', 'b') ('a', 'c') ('a', 'd') ('b', 'a') ('b', 'c') ('b', 'd') ('c', 'a') ('c', 'b') ('c', 'd') ('d', 'a') ('d', 'b') ('d', 'c') "
     ]
    }
   ],
   "metadata": {}
  },
  {
   "cell_type": "code",
   "execution_count": 10,
   "source": [
    "# itertools.compress() takes in an iterable and a selector,\r\n",
    "# and returns an iterable with only those items for which the corresponding selector value is true\r\n",
    "\r\n",
    "nums = [1, 2, 8, 5, 7, 10]\r\n",
    "T_F = [False, True, True, False, False, True]\r\n",
    "\r\n",
    "even = itertools.compress(nums, T_F)\r\n",
    "\r\n",
    "for num in even:\r\n",
    "  print(num, end=\" \")\r\n"
   ],
   "outputs": [
    {
     "output_type": "stream",
     "name": "stdout",
     "text": [
      "2 8 10 "
     ]
    }
   ],
   "metadata": {}
  },
  {
   "cell_type": "code",
   "execution_count": 11,
   "source": [
    "\r\n",
    "# itertools.chain() accepts a variable number of iterables and loops through all of them one by one\r\n",
    "nums = {1, 2, 3, 4, 5}\r\n",
    "vowels = [\"A\", \"E\", \"I\", \"O\", \"U\"]\r\n",
    "lower_case = [\"a\", \"e\", \"i\", \"o\", \"u\"]\r\n",
    "\r\n",
    "chain = itertools.chain(nums, vowels, lower_case)\r\n",
    "\r\n",
    "for c in chain:\r\n",
    "  print(c, end=\" \")\r\n"
   ],
   "outputs": [
    {
     "output_type": "stream",
     "name": "stdout",
     "text": [
      "1 2 3 4 5 A E I O U a e i o u "
     ]
    }
   ],
   "metadata": {}
  },
  {
   "cell_type": "code",
   "execution_count": 12,
   "source": [
    "# itertools.combinations() prints all the possible combinations of the container\r\n",
    "# with the specified group size in sorted order\r\n",
    "\r\n",
    "nums = (1, 2, 3)\r\n",
    "combs = itertools.combinations(nums, 2)\r\n",
    "for i in combs:\r\n",
    "  print(i, end=\" \")\r\n"
   ],
   "outputs": [
    {
     "output_type": "stream",
     "name": "stdout",
     "text": [
      "(1, 2) (1, 3) (2, 3) "
     ]
    }
   ],
   "metadata": {}
  },
  {
   "cell_type": "code",
   "execution_count": 13,
   "source": [
    "# itertools.dropwhile() keeps on dropping values from the iterable based on the function\r\n",
    "# until it encounters the first element that evaluates to false\r\n",
    "\r\n",
    "nums = [1, 25, 0, 3, 2, 1]\r\n",
    "till_zero = itertools.dropwhile(lambda x: x != 0, nums)\r\n",
    "\r\n",
    "for n in till_zero:\r\n",
    "  print(n, end=\" \")\r\n"
   ],
   "outputs": [
    {
     "output_type": "stream",
     "name": "stdout",
     "text": [
      "0 3 2 1 "
     ]
    }
   ],
   "metadata": {}
  },
  {
   "cell_type": "code",
   "execution_count": null,
   "source": [],
   "outputs": [],
   "metadata": {}
  }
 ],
 "metadata": {
  "orig_nbformat": 4,
  "language_info": {
   "name": "python",
   "version": "3.7.3",
   "mimetype": "text/x-python",
   "codemirror_mode": {
    "name": "ipython",
    "version": 3
   },
   "pygments_lexer": "ipython3",
   "nbconvert_exporter": "python",
   "file_extension": ".py"
  },
  "kernelspec": {
   "name": "python3",
   "display_name": "Python 3.7.3 64-bit ('base': conda)"
  },
  "interpreter": {
   "hash": "1f6f5b05f6b17a715395ee32c655d2a555469c9b738ef92421f45abe63f60879"
  }
 },
 "nbformat": 4,
 "nbformat_minor": 2
}